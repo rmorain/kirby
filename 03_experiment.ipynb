{
 "cells": [
  {
   "cell_type": "code",
   "execution_count": null,
   "metadata": {},
   "outputs": [],
   "source": [
    "# default_exp experiment"
   ]
  },
  {
   "cell_type": "code",
   "execution_count": null,
   "metadata": {},
   "outputs": [],
   "source": [
    "import pytorch_lightning as pl\n",
    "import torch\n",
    "import wandb\n",
    "from kirby.run_params import RunParams\n",
    "from kirby.basic_model import BasicModel\n",
    "from pytorch_lightning.loggers import WandbLogger\n",
    "from pytorch_lightning.callbacks.early_stopping import EarlyStopping"
   ]
  },
  {
   "cell_type": "markdown",
   "metadata": {},
   "source": [
    "# Experiment\n",
    "\n",
    "> Given a set of run parameters, run an experiment and log the results"
   ]
  },
  {
   "cell_type": "code",
   "execution_count": null,
   "metadata": {},
   "outputs": [],
   "source": [
    "#export\n",
    "class Experiment():\n",
    "    def __init__(self, run_params):\n",
    "        self.run_params = run_params\n",
    "        self.model = BasicModel(run_params.model)\n",
    "\n",
    "    def run(self):\n",
    "        trainer = pl.Trainer(\n",
    "            default_root_dir='logs',\n",
    "            gpus=(1 if torch.cuda.is_available() else 0),\n",
    "            max_epochs=self.run_params.max_epochs,\n",
    "            fast_dev_run=self.run_params.debug,\n",
    "            logger=TensorBoardLogger(save_dir='logs/', \n",
    "                                name=self.run_params.run_name, \n",
    "                                project=self.run_params.project_name),\n",
    "        )\n",
    "\n",
    "        trainer.fit(model)\n"
   ]
  },
  {
   "cell_type": "markdown",
   "metadata": {},
   "source": [
    "# Testing"
   ]
  },
  {
   "cell_type": "code",
   "execution_count": null,
   "metadata": {},
   "outputs": [],
   "source": [
    "# Creation\n",
    "experiment = Experiment(RunParams())\n",
    "assert isinstance(experiment, Experiment)"
   ]
  },
  {
   "cell_type": "code",
   "execution_count": null,
   "metadata": {},
   "outputs": [],
   "source": []
  }
 ],
 "metadata": {
  "kernelspec": {
   "display_name": "Python 3",
   "language": "python",
   "name": "python3"
  },
  "language_info": {
   "codemirror_mode": {
    "name": "ipython",
    "version": 3
   },
   "file_extension": ".py",
   "mimetype": "text/x-python",
   "name": "python",
   "nbconvert_exporter": "python",
   "pygments_lexer": "ipython3",
   "version": "3.8.5"
  }
 },
 "nbformat": 4,
 "nbformat_minor": 4
}
