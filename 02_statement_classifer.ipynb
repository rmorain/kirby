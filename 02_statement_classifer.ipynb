{
 "cells": [
  {
   "cell_type": "code",
   "execution_count": null,
   "metadata": {},
   "outputs": [],
   "source": [
    "# default_exp statement_classifier"
   ]
  },
  {
   "cell_type": "markdown",
   "metadata": {},
   "source": [
    "# Statement Classifier\n",
    "\n",
    "> Given a set of knowledge statements and a set of dataset sequences, classify which statements are relevant to the  corresponding dataset sequence."
   ]
  },
  {
   "cell_type": "code",
   "execution_count": 1,
   "metadata": {},
   "outputs": [
    {
     "data": {
      "text/html": [
       "\n",
       "        <iframe\n",
       "            width=\"700\"\n",
       "            height=\"350\"\n",
       "            src=\"https://lucid.app/documents/embeddedchart/f315bf4f-e9c9-4e56-b015-ceb142d930d1\"\n",
       "            frameborder=\"0\"\n",
       "            allowfullscreen\n",
       "        ></iframe>\n",
       "        "
      ],
      "text/plain": [
       "<IPython.lib.display.IFrame at 0x7fb8b418d790>"
      ]
     },
     "execution_count": 1,
     "metadata": {},
     "output_type": "execute_result"
    }
   ],
   "source": [
    "from IPython.display import IFrame\n",
    "IFrame('https://lucid.app/documents/embeddedchart/f315bf4f-e9c9-4e56-b015-ceb142d930d1', width=700, height=350)"
   ]
  },
  {
   "cell_type": "markdown",
   "metadata": {},
   "source": [
    "Uses:\n",
    "- Knowledge statements dataset\n",
    "- Text dataset\n",
    "- Dataset combiner\n",
    "- Language Model with classification head\n",
    "\n",
    "Input:\n",
    "- An input sentence\n",
    "- A set of knowledge statements\n",
    "\n",
    "Returns:\n",
    "- A set of knowledge statements"
   ]
  },
  {
   "cell_type": "markdown",
   "metadata": {},
   "source": [
    "## Explanation\n",
    "\n",
    "For a given input sentence, there can be an arbitrary number of knowledge statements associated with it.\n",
    "\n",
    "**Knowledge Statement**: A string that expresses a relationship between two entities.\n",
    "\n",
    "For example: \"Cristiano Ronaldo : plays for team : Juventus\"\n",
    "    \n",
    "The basic structure of a `statement` is: subject_entity : relationship : object_entity\n",
    "\n",
    "(Note: We should create a `statement` class.)\n",
    "\n",
    "So for each input sentence, we want to classify a set of knowledge statements as `True` or `False` indicating that it should be considered a candidate for selection. The results of this classification will be written to a database.\n",
    "\n"
   ]
  },
  {
   "cell_type": "code",
   "execution_count": 2,
   "metadata": {},
   "outputs": [],
   "source": [
    "#export\n",
    "class StatementClassifier():\n",
    "    def __init__(self):\n",
    "        pass\n",
    "    \n",
    "    def classify(self, x, statements):\n",
    "        \"Given an input x, classify statements as True or False\"\n",
    "        pass"
   ]
  },
  {
   "cell_type": "code",
   "execution_count": null,
   "metadata": {},
   "outputs": [],
   "source": []
  }
 ],
 "metadata": {
  "kernelspec": {
   "display_name": "Python 3",
   "language": "python",
   "name": "python3"
  },
  "language_info": {
   "codemirror_mode": {
    "name": "ipython",
    "version": 3
   },
   "file_extension": ".py",
   "mimetype": "text/x-python",
   "name": "python",
   "nbconvert_exporter": "python",
   "pygments_lexer": "ipython3",
   "version": "3.8.5"
  }
 },
 "nbformat": 4,
 "nbformat_minor": 4
}
