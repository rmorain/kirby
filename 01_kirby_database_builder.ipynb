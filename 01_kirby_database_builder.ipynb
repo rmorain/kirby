{
 "cells": [
  {
   "cell_type": "code",
   "execution_count": null,
   "metadata": {},
   "outputs": [],
   "source": [
    "# default_exp kirby_dataset_builder"
   ]
  },
  {
   "cell_type": "markdown",
   "metadata": {},
   "source": [
    "# Kirby Database Builder\n",
    "\n",
    "> Builds a database based on a given dataset"
   ]
  },
  {
   "cell_type": "markdown",
   "metadata": {},
   "source": [
    "Uses:\n",
    "- Query Generator\n",
    "- Knowledge Base Accessor\n",
    "- Statements Filter\n",
    "\n",
    "Input:\n",
    "- Wikitext dataset\n",
    "\n",
    "Returns:\n",
    "- Knowledge Base Dataset"
   ]
  },
  {
   "cell_type": "code",
   "execution_count": null,
   "metadata": {},
   "outputs": [],
   "source": [
    "#export \n",
    "from rake_nltk import Rake"
   ]
  },
  {
   "cell_type": "code",
   "execution_count": null,
   "metadata": {},
   "outputs": [],
   "source": [
    "#export\n",
    "class kirby_database_builder():\n",
    "    def __init__(self):\n",
    "        self.rake = Rake()\n",
    "        pass\n",
    "    \n",
    "    def build(self, ds):\n",
    "        \"Build a database based a given dataset\"\n",
    "        \n",
    "        ds.map(self.add_relations, batched=True)\n",
    "        pass\n",
    "    \n",
    "    def add_relations(self, x):\n",
    "        # Identify keyword\n",
    "        self.rake.extract_keywords_from_text(x['text'])\n",
    "        # Get entity from keyword\n",
    "        # Get relations from entity\n",
    "        # Write to \n",
    "        pass"
   ]
  },
  {
   "cell_type": "code",
   "execution_count": null,
   "metadata": {},
   "outputs": [],
   "source": []
  }
 ],
 "metadata": {
  "kernelspec": {
   "display_name": "Python 3",
   "language": "python",
   "name": "python3"
  }
 },
 "nbformat": 4,
 "nbformat_minor": 4
}
