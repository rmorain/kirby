{
 "cells": [
  {
   "cell_type": "code",
   "execution_count": null,
   "metadata": {},
   "outputs": [],
   "source": [
    "# default_exp knowledge_base_accessor"
   ]
  },
  {
   "cell_type": "markdown",
   "metadata": {},
   "source": [
    "# Knowledge Base Accessor\n",
    "\n",
    "> This module provides a way to access the Wikidata Knowledge base. It handles queries and returns knowledge statements."
   ]
  },
  {
   "cell_type": "code",
   "execution_count": null,
   "metadata": {},
   "outputs": [],
   "source": [
    "#hide\n",
    "from nbdev.showdoc import *"
   ]
  },
  {
   "cell_type": "code",
   "execution_count": null,
   "metadata": {},
   "outputs": [],
   "source": [
    "#export\n",
    "class KnowledgeBaseAccessor():\n",
    "    \"Class to access the Wikidata Knowledge Base\"\n",
    "    \n",
    "    def query(self, q):\n",
    "        \"Query the Wikidata knowledge base\"\n",
    "        return f'Performing query {q}'\n",
    "    "
   ]
  },
  {
   "cell_type": "code",
   "execution_count": null,
   "metadata": {},
   "outputs": [],
   "source": [
    "kba = KnowledgeBaseAccessor()\n",
    "s = kba.query('a > b')\n",
    "assert s == 'Performing query a > b'"
   ]
  },
  {
   "cell_type": "code",
   "execution_count": null,
   "metadata": {},
   "outputs": [],
   "source": [
    "# This is a test"
   ]
  }
 ],
 "metadata": {
  "kernelspec": {
   "display_name": "kirby",
   "language": "python",
   "name": "kirby"
  }
 },
 "nbformat": 4,
 "nbformat_minor": 4
}
