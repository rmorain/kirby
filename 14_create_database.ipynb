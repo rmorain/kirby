{
 "cells": [
  {
   "cell_type": "code",
   "execution_count": 13,
   "id": "a8236356",
   "metadata": {},
   "outputs": [],
   "source": [
    "#default_exp create_database"
   ]
  },
  {
   "cell_type": "code",
   "execution_count": 10,
   "id": "1fafd668",
   "metadata": {},
   "outputs": [],
   "source": [
    "#export\n",
    "import sqlite3\n",
    "import traceback"
   ]
  },
  {
   "cell_type": "code",
   "execution_count": 11,
   "id": "c6c92647",
   "metadata": {},
   "outputs": [],
   "source": [
    "#export\n",
    "def create_database(database_name):\n",
    "    conn = None\n",
    "    try:\n",
    "        conn = sqlite3.connect('{}.db'.format(database_name))\n",
    "        c = conn.cursor()\n",
    "        c.execute(\n",
    "            \"CREATE TABLE IF NOT EXISTS Entities(entity_id VARCHAR(255) NOT NULL PRIMARY KEY, label VARCHAR(255) NOT \"\\\n",
    "            \"NULL, description VARCHAR(255) NOT NULL);\")\n",
    "        c.execute(\n",
    "            \"CREATE TABLE IF NOT EXISTS Entities_not_alpha(entity_id VARCHAR(255) NOT NULL PRIMARY KEY, \"\\\n",
    "            \"label VARCHAR(255) NOT NULL, description VARCHAR(255) NOT NULL);\")\n",
    "        c.execute(\n",
    "            \"CREATE TABLE IF NOT EXISTS Properties_relations(entity_id VARCHAR(255) NOT NULL, relations \"\\\n",
    "            \"VARCHAR(255));\"),\n",
    "        c.execute(\"CREATE TABLE IF NOT EXISTS Aliases(entity_id VARCHAR(255), aliases VARCHAR(255));\")\n",
    "        c.execute(\"CREATE TABLE IF NOT EXISTS Properties(property_id VARCAR(255) NOT NULL PRIMARY KEY, \"\\\n",
    "            \"label VARCHAR(255) NOT NULL);\")\n",
    "        for i in range(ord('a'), ord('z') + 1):\n",
    "            c.execute(\n",
    "                \"CREATE TABLE IF NOT EXISTS Entities_{}(entity_id VARCHAR(255) NOT NULL PRIMARY KEY, label VARCHAR(255) \" \\\n",
    "                \"NOT NULL, description VARCHAR(255) NOT NULL);\".format(chr(i)))\n",
    "        conn.commit()\n",
    "        conn.close()\n",
    "        print(\"Database created\")\n",
    "    except Exception as e:\n",
    "        print(e)\n",
    "        conn.commit()\n",
    "        conn.close()\n",
    "        traceback.print_exc()\n",
    "        print(\"Error creating database. Please try to run the code again\")\n",
    "              \n",
    "def split_and_optimize(database_name):\n",
    "    conn = None\n",
    "    try:\n",
    "        conn = sqlite3.connect('{}.db'.format(database_name))\n",
    "        c = conn.cursor()\n",
    "        for i in range(ord('a'), ord('z') + 1):\n",
    "            c.execute('INSERT INTO Entities_{} SELECT * FROM Entities WHERE label LIKE \\\"{}%\\\";'.format(chr(i), chr(i)))\n",
    "            c.execute('CREATE INDEX index_id_{} ON Entities_{} (label);'.format(chr(i), chr(i)))\n",
    "            conn.commit()\n",
    "        c.execute('INSERT INTO Entities_not_alpha SELECT * FROM Entities WHERE label NOT REGEXP \\'[a-zA-Z]\\';')\n",
    "        c.execute('CREATE INDEX index_id_not_alpha ON Entities_not_alpha (label);')\n",
    "        c.execute('CREATE INDEX index_id_alias ON Aliases (entity_id);')\n",
    "        c.execute('CREATE INDEX index_id_relations ON Properties_relations (entity_id);')\n",
    "        conn.commit()\n",
    "        conn.close()\n",
    "        print(\"Database created\")\n",
    "    except Exception as e:\n",
    "        print(e)\n",
    "        conn.commit()\n",
    "        conn.close()\n",
    "        traceback.print_exc()\n",
    "        print(\"Error creating database. Please try to run the code again\")\n"
   ]
  },
  {
   "cell_type": "code",
   "execution_count": 12,
   "id": "ea4a5bf6",
   "metadata": {},
   "outputs": [
    {
     "name": "stdout",
     "output_type": "stream",
     "text": [
      "Database created\n"
     ]
    }
   ],
   "source": [
    "create_database('test')"
   ]
  },
  {
   "cell_type": "code",
   "execution_count": null,
   "id": "a9cfa6f5",
   "metadata": {},
   "outputs": [],
   "source": []
  }
 ],
 "metadata": {
  "kernelspec": {
   "display_name": "Python 3",
   "language": "python",
   "name": "python3"
  },
  "language_info": {
   "codemirror_mode": {
    "name": "ipython",
    "version": 3
   },
   "file_extension": ".py",
   "mimetype": "text/x-python",
   "name": "python",
   "nbconvert_exporter": "python",
   "pygments_lexer": "ipython3",
   "version": "3.8.5"
  }
 },
 "nbformat": 4,
 "nbformat_minor": 5
}
