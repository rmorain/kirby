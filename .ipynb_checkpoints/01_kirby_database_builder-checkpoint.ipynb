{
 "cells": [
  {
   "cell_type": "code",
   "execution_count": null,
   "metadata": {},
   "outputs": [],
   "source": [
    "# default_exp kirby_dataset_builder"
   ]
  },
  {
   "cell_type": "markdown",
   "metadata": {},
   "source": [
    "# Kirby Database Builder\n",
    "\n",
    "> Builds a database based on a given dataset"
   ]
  },
  {
   "cell_type": "code",
   "execution_count": null,
   "metadata": {},
   "outputs": [
    {
     "data": {
      "text/html": [
       "\n",
       "        <iframe\n",
       "            width=\"700\"\n",
       "            height=\"350\"\n",
       "            src=\"https://lucid.app/documents/embeddedchart/f315bf4f-e9c9-4e56-b015-ceb142d930d1\"\n",
       "            frameborder=\"0\"\n",
       "            allowfullscreen\n",
       "        ></iframe>\n",
       "        "
      ],
      "text/plain": [
       "<IPython.lib.display.IFrame at 0x7f82a59d7ba8>"
      ]
     },
     "execution_count": null,
     "metadata": {},
     "output_type": "execute_result"
    }
   ],
   "source": [
    "from IPython.display import IFrame\n",
    "IFrame('https://lucid.app/documents/embeddedchart/f315bf4f-e9c9-4e56-b015-ceb142d930d1', width=700, height=350)"
   ]
  },
  {
   "cell_type": "markdown",
   "metadata": {},
   "source": [
    "Uses:\n",
    "- Query Generator\n",
    "- Knowledge Base Accessor\n",
    "- Statements Filter\n",
    "\n",
    "Input:\n",
    "- Wikitext dataset\n",
    "\n",
    "Returns:\n",
    "- Knowledge Base Dataset"
   ]
  },
  {
   "cell_type": "code",
   "execution_count": null,
   "metadata": {},
   "outputs": [],
   "source": [
    "#export\n",
    "class kirby_database_builder():\n",
    "    def __init__(self):\n",
    "        pass\n",
    "    \n",
    "    def build(self, ds):\n",
    "        \"Build a database based a given dataset\"\n",
    "        pass"
   ]
  },
  {
   "cell_type": "code",
   "execution_count": null,
   "metadata": {},
   "outputs": [],
   "source": []
  }
 ],
 "metadata": {
  "kernelspec": {
   "display_name": "kirby",
   "language": "python",
   "name": "kirby"
  }
 },
 "nbformat": 4,
 "nbformat_minor": 4
}
