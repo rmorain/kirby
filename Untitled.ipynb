{
 "cells": [
  {
   "cell_type": "code",
   "execution_count": 2,
   "id": "3637c5f3-09e8-4e9d-aac9-a929f578340c",
   "metadata": {},
   "outputs": [],
   "source": [
    "from kirby.basic_model import BasicModel\n",
    "from kirby.run_params import RunParams\n",
    "from kirby.data_manager import DataManager"
   ]
  },
  {
   "cell_type": "code",
   "execution_count": 3,
   "id": "63fc4304-943f-4f0e-b969-a2ce40d3eb63",
   "metadata": {},
   "outputs": [],
   "source": [
    "rp = RunParams()\n",
    "model = BasicModel(rp)\n",
    "dm = DataManager(rp)"
   ]
  },
  {
   "cell_type": "code",
   "execution_count": null,
   "id": "36514773-cd0b-4701-b0f3-28ab91ec3d6b",
   "metadata": {},
   "outputs": [],
   "source": []
  }
 ],
 "metadata": {
  "kernelspec": {
   "display_name": "Python 3",
   "language": "python",
   "name": "python3"
  },
  "language_info": {
   "codemirror_mode": {
    "name": "ipython",
    "version": 3
   },
   "file_extension": ".py",
   "mimetype": "text/x-python",
   "name": "python",
   "nbconvert_exporter": "python",
   "pygments_lexer": "ipython3",
   "version": "3.8.10"
  }
 },
 "nbformat": 4,
 "nbformat_minor": 5
}
