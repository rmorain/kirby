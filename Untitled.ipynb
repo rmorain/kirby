{
 "cells": [
  {
   "cell_type": "code",
   "execution_count": null,
   "id": "5952b4ad-8ae1-40a0-9b3a-fc2a6a3987c7",
   "metadata": {},
   "outputs": [],
   "source": [
    "from rake_nltk import Rake\n",
    "from kirby.database_proxy import WikiDatabase"
   ]
  },
  {
   "cell_type": "code",
   "execution_count": null,
   "id": "a61c4d7a-8a31-4deb-ab57-35db29c7df0b",
   "metadata": {},
   "outputs": [],
   "source": [
    "rake = Rake()"
   ]
  },
  {
   "cell_type": "code",
   "execution_count": null,
   "id": "0ad8ee82-2122-41f2-bd37-41fe26d81500",
   "metadata": {},
   "outputs": [],
   "source": [
    "x = ' Senjō no Valkyria 3 : Unrecorded Chronicles ( Japanese : 戦場のヴァルキュリア3, lit. Valkyria of the Battlefield 3 ), commonly referred to as Valkyria Chronicles III outside Japan, is a tactical role @-@ playing video game developed by Sega and Media.Vision for the PlayStation Portable. Released in January 2011 in Japan, it is the third game in the Valkyria series. Employing the same fusion of tactical and real @-@ time gameplay as its predecessors, the story runs parallel to the first game and follows the \" Nameless \",'"
   ]
  },
  {
   "cell_type": "code",
   "execution_count": null,
   "id": "9a82da34-f640-4fe0-b1bf-83bd4a066a4f",
   "metadata": {},
   "outputs": [],
   "source": [
    "rake.extract_keywords_from_text(x)"
   ]
  },
  {
   "cell_type": "code",
   "execution_count": null,
   "id": "ee410b29-fc54-489a-a10c-17f2f3c9c3ec",
   "metadata": {},
   "outputs": [
    {
     "data": {
      "text/plain": [
       "['tactical role @-@ playing video game developed',\n",
       " 'battlefield 3 ), commonly referred',\n",
       " 'valkyria chronicles iii outside japan',\n",
       " 'real @-@ time gameplay',\n",
       " 'story runs parallel',\n",
       " 'valkyria 3',\n",
       " 'third game',\n",
       " 'first game',\n",
       " 'unrecorded chronicles',\n",
       " 'valkyria series',\n",
       " 'tactical',\n",
       " 'playstation portable',\n",
       " 'nameless \",',\n",
       " 'january 2011',\n",
       " 'japan',\n",
       " 'valkyria',\n",
       " '戦場のヴァルキュリア3',\n",
       " 'vision',\n",
       " 'senjō',\n",
       " 'sega',\n",
       " 'released',\n",
       " 'predecessors',\n",
       " 'media',\n",
       " 'lit',\n",
       " 'japanese',\n",
       " 'fusion',\n",
       " 'follows',\n",
       " 'employing']"
      ]
     },
     "execution_count": null,
     "metadata": {},
     "output_type": "execute_result"
    }
   ],
   "source": [
    "rake.get_ranked_phrases()"
   ]
  },
  {
   "cell_type": "code",
   "execution_count": null,
   "id": "9e53c5be-38e1-47fa-8cd8-52ff8a45b5ea",
   "metadata": {},
   "outputs": [
    {
     "data": {
      "text/plain": [
       "'tactical role @-@ playing video game developed'"
      ]
     },
     "execution_count": null,
     "metadata": {},
     "output_type": "execute_result"
    }
   ],
   "source": [
    "keyword = rake.get_ranked_phrases()[0]\n",
    "keyword"
   ]
  },
  {
   "cell_type": "code",
   "execution_count": null,
   "id": "183239f0-a140-43d2-b555-45a875b45bf1",
   "metadata": {},
   "outputs": [
    {
     "name": "stdout",
     "output_type": "stream",
     "text": [
      "<sqlite3.Connection object at 0x7f98062be4e0>\n"
     ]
    }
   ],
   "source": [
    "db = WikiDatabase()"
   ]
  },
  {
   "cell_type": "code",
   "execution_count": null,
   "id": "c73fdcbd-bb35-4b9c-ae45-523c20032750",
   "metadata": {},
   "outputs": [],
   "source": [
    "entity = db.get_entity_by_label(keyword)\n",
    "entity"
   ]
  },
  {
   "cell_type": "code",
   "execution_count": null,
   "id": "f3291453-206a-4905-abef-c5797e99e8ee",
   "metadata": {},
   "outputs": [],
   "source": [
    "import spacy"
   ]
  },
  {
   "cell_type": "code",
   "execution_count": null,
   "id": "1fad7053-8764-49c9-a3e9-6900452f716f",
   "metadata": {},
   "outputs": [
    {
     "name": "stdout",
     "output_type": "stream",
     "text": [
      "Unrecorded Chronicles 23 44 PERSON\n",
      "None\n",
      "Japanese 47 55 NORP\n",
      "['Q5287', 'Japanese', 'East Asian language']\n",
      "Valkyria Chronicles III 133 156 PERSON\n",
      "['Q5954954', 'Valkyria Chronicles III', '2011 video game']\n",
      "Japan 165 170 GPE\n",
      "['Q17', 'Japan', 'sovereign state in East Asia']\n",
      "Sega 227 231 PERSON\n",
      "['Q122741', 'Sega', 'Japanese video game developer and publisher and subsidiary of Sega Sammy Holdings']\n",
      "January 2011 291 303 DATE\n",
      "['Q243348', 'January 2011', 'month of 2011']\n",
      "Japan 307 312 GPE\n",
      "['Q17', 'Japan', 'sovereign state in East Asia']\n",
      "third 324 329 ORDINAL\n",
      "['Q224074', 'third', 'musical interval encompassing three staff positions; either a major third (four semitones) or a minor third (three semitones) in diatonic scales']\n",
      "first 476 481 ORDINAL\n",
      "['Q19269277', 'first', 'preceding, coming before all others of in a series or partially ordered set of elements of the same kind or having common properties; the ordinal of one; earliest']\n",
      "the \" Nameless \" 499 515 LAW\n",
      "None\n"
     ]
    }
   ],
   "source": [
    "nlp = spacy.load(\"en_core_web_sm\", disable=[\"tok2vec\", \"tagger\", \"parser\", \"attribute_ruler\", \"lemmatizer\"])\n",
    "doc = nlp(x)\n",
    "\n",
    "for ent in doc.ents:\n",
    "    print(ent.text, ent.start_char, ent.end_char, ent.label_)\n",
    "    entity = db.get_entity_by_label(ent.text)\n",
    "    print(entity)"
   ]
  }
 ],
 "metadata": {
  "kernelspec": {
   "display_name": "Python 3",
   "language": "python",
   "name": "python3"
  }
 },
 "nbformat": 4,
 "nbformat_minor": 5
}
