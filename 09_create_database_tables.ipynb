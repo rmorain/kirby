{
 "cells": [
  {
   "cell_type": "code",
   "execution_count": null,
   "metadata": {},
   "outputs": [],
   "source": [
    "# default_exp create_database_tables\n",
    "%load_ext autoreload\n",
    "%autoreload 2"
   ]
  },
  {
   "cell_type": "markdown",
   "metadata": {},
   "source": [
    "# Create Database Tables\n",
    "\n",
    "> Creates and populates the database from a raw 'latest-all.json.bz2' file. Only run when you want to create the database again."
   ]
  },
  {
   "cell_type": "code",
   "execution_count": null,
   "metadata": {},
   "outputs": [],
   "source": [
    "#export\n",
    "# Package to read the the JSON dump\n",
    "from qwikidata.json_dump import WikidataJsonDump\n",
    "from kirby.properties import properties"
   ]
  },
  {
   "cell_type": "code",
   "execution_count": null,
   "metadata": {},
   "outputs": [],
   "source": [
    "#export\n",
    "wjd = WikidataJsonDump('latest-all.json.bz2') # put the name of the JsonDump here\n",
    "items_list = [] # This will hold the data for the items\n",
    "items = {}  # Connected items go in the objects dictionary\n",
    "max_entities = 100  # Variable to stop the program during testing\n",
    "property_list = properties()  # List of all properties\n",
    "aliases = []  # List of all aliases"
   ]
  },
  {
   "cell_type": "code",
   "execution_count": null,
   "metadata": {},
   "outputs": [],
   "source": [
    "#export\n",
    "# Make sure all string with apostrophes have an scape character for sql\n",
    "def fix_label(label):\n",
    "    index = 0\n",
    "    while index < len(label):\n",
    "        if label[index] == '\\'':\n",
    "            label = label[:index] + '\\'' + label[index:]\n",
    "            index += 1\n",
    "        index += 1\n",
    "    return label"
   ]
  },
  {
   "cell_type": "code",
   "execution_count": null,
   "metadata": {},
   "outputs": [],
   "source": [
    "#export\n",
    "f = open(\"sql_statements.txt\", \"a\", encoding=\"utf-8\")"
   ]
  },
  {
   "cell_type": "code",
   "execution_count": null,
   "metadata": {},
   "outputs": [],
   "source": [
    "# #export\n",
    "# Do Not Run Unless you need to recreate database\n",
    "# for ii, entity_dict in enumerate(wjd):\n",
    "#     if ii % 500 == 0 and ii != 0:\n",
    "#         count = 0\n",
    "#         for item in items_list:\n",
    "#             if count % 1000 == 0:\n",
    "#                 f.write(\"\\n\\n\\n\\nINSERT INTO Entities\\n (entity_id, label, description)\\n VALUES\\n\")\n",
    "#             count += 1\n",
    "#             if count == 1000 or item == items_list[-1]:\n",
    "#                 item = item[:-1] + ';'\n",
    "#             f.write('{}\\n'.format(item))\n",
    "#         items_list.clear()\n",
    "#         count = 0\n",
    "\n",
    "#         for item in property_list:\n",
    "#             if count % 1000 == 0:\n",
    "#                 f.write(\n",
    "#                     \"\\n\\n\\n\\nINSERT INTO Properties_relations\\n (entity_id, property_id, related_entity_id)\\n VALUES\\n\")\n",
    "#             count += 1\n",
    "#             if count % 1000 == 0 or item == property_list[-1]:\n",
    "#                 item = item[:-1] + ';'\n",
    "#             f.write('{}\\n'.format(item))\n",
    "#         property_list.clear()\n",
    "#         count == 0\n",
    "#         for idx, item in enumerate(aliases):\n",
    "#             if count % 1000 == 0:\n",
    "#                 f.write(\"\\n\\n\\n\\nINSERT INTO Aliases\\n (entity_id, alias)\\n VALUES\\n\")\n",
    "#             count += 1\n",
    "#             if count % 1000 == 0 or count == len(aliases):\n",
    "#                 item = item[:-1] + ';'\n",
    "#             f.write('{}\\n'.format(item))\n",
    "\n",
    "#         aliases.clear()\n",
    "\n",
    "#     entity_label = ''\n",
    "#     description = ''\n",
    "#     entity_properties = []\n",
    "#     # Store the id of the entity\n",
    "#     entity_id = entity_dict['id']\n",
    "#     index = 0\n",
    "\n",
    "#     if 'descriptions' in entity_dict and 'en' in entity_dict['descriptions'] and 'value' in entity_dict['descriptions']['en']:\n",
    "#         description = entity_dict['descriptions']['en']['value']\n",
    "\n",
    "#     # Just keep the entities that have a name in English\n",
    "#     if 'labels' in entity_dict:\n",
    "#         if 'en' in entity_dict['labels']:\n",
    "#             # temp = fix_label(entity_dict['labels']['en']['value'])\n",
    "#             items_list.append('(\\'{}\\', \\'{}\\', \\'{}\\'),'.format(entity_id, fix_label(entity_dict['labels']['en']['value']),\n",
    "#                                                                  fix_label(description)))\n",
    "#         else:\n",
    "#             continue\n",
    "\n",
    "#     if 'aliases' in entity_dict:  # Create table\n",
    "#         if 'en-gb' in entity_dict['aliases']:\n",
    "#             for element in entity_dict['aliases']['en-gb']:\n",
    "#                 aliases.append('(\\'{}\\', \\'{}\\'),'.format(entity_id, fix_label(element['value'])))\n",
    "#         if 'en' in entity_dict['aliases']:\n",
    "#             for element in entity_dict['aliases']['en']:\n",
    "#                 aliases.append('(\\'{}\\', \\'{}\\'),'.format(entity_id, fix_label(element['value'])))\n",
    "\n",
    "#     if \"claims\" in entity_dict:\n",
    "#         for inner_key in entity_dict[\"claims\"].keys():\n",
    "#             if 'datavalue' in entity_dict[\"claims\"][inner_key][0]['mainsnak'] \\\n",
    "#                     and ('value' in entity_dict[\"claims\"][inner_key][0]['mainsnak']['datavalue']) \\\n",
    "#                     and isinstance(entity_dict[\"claims\"][inner_key][0]['mainsnak']['datavalue']['value'], dict) \\\n",
    "#                     and ('id' in entity_dict[\"claims\"][inner_key][0]['mainsnak']['datavalue']['value']):\n",
    "#                 property_list.append('(\\'{}\\', \\'{}\\', \\'{}\\'),'.format(entity_id, inner_key, entity_dict[\"claims\"][inner_key][0]['mainsnak']['datavalue']['value']['id']))\n",
    "\n",
    "# count = 0\n",
    "# for k in property_dict:\n",
    "#     if count % 1000 == 0:\n",
    "#         f.write(\"\\n\\n\\n\\nINSERT INTO Properties\\n (property_id, label)\\n VALUES\\n\")\n",
    "#     count += 1\n",
    "#     if count % 1000 == 0:\n",
    "#         f.write('(\\'{}\\', \\'{}\\');\\n'.format(k, fix_label(property_dict[k])))\n",
    "#     else:\n",
    "#         f.write('(\\'{}\\', \\'{}\\'),\\n'.format(k, fix_label(property_dict[k])))\n",
    "\n",
    "# f.close()"
   ]
  },
  {
   "cell_type": "code",
   "execution_count": null,
   "metadata": {},
   "outputs": [],
   "source": []
  }
 ],
 "metadata": {
  "kernelspec": {
   "display_name": "Python 3",
   "language": "python",
   "name": "python3"
  }
 },
 "nbformat": 4,
 "nbformat_minor": 4
}
