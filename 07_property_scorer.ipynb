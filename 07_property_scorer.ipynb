{
 "cells": [
  {
   "cell_type": "code",
   "execution_count": null,
   "id": "dafd742d",
   "metadata": {},
   "outputs": [],
   "source": [
    "# default_exp property_scorer\n",
    "%load_ext autoreload\n",
    "%autoreload 2"
   ]
  },
  {
   "cell_type": "code",
   "execution_count": null,
   "id": "8ac1412d",
   "metadata": {},
   "outputs": [],
   "source": [
    "from transformers import GPT2Config, GPT2Model\n",
    "from torch import nn"
   ]
  },
  {
   "cell_type": "markdown",
   "id": "4218301b",
   "metadata": {},
   "source": [
    "# Property Scorer\n",
    "\n",
    "> Score a given input text, property pair. \n",
    "\n",
    "The same transformer with a language model head."
   ]
  },
  {
   "cell_type": "code",
   "execution_count": null,
   "id": "cc864a9b",
   "metadata": {},
   "outputs": [],
   "source": [
    "class PropertyScorer(GPT2Model):\n",
    "    def __init__(self):\n",
    "        config = GPT2Config()\n",
    "        super().__init__(config)\n",
    "        self.transformer = GPT2Model(config)\n",
    "        self.lm_head = nn.Linear(config.n_embd, 1, bias=False)\n",
    "\n",
    "        self.init_weights()\n",
    "\n",
    "        # Model parallel\n",
    "        self.model_parallel = False\n",
    "        self.device_map = None"
   ]
  },
  {
   "cell_type": "markdown",
   "id": "2a8f0c53",
   "metadata": {},
   "source": [
    "# Testing"
   ]
  },
  {
   "cell_type": "code",
   "execution_count": null,
   "id": "9f0bf9a6",
   "metadata": {},
   "outputs": [],
   "source": [
    "from kirby.data_manager import DataManager\n",
    "from kirby.run_params import RunParams\n",
    "import torch\n",
    "import numpy as np"
   ]
  },
  {
   "cell_type": "code",
   "execution_count": null,
   "id": "63e972e7",
   "metadata": {},
   "outputs": [],
   "source": [
    "x = \"Rob is the best\"\n",
    "p = \"{Rob : Sux}\""
   ]
  },
  {
   "cell_type": "code",
   "execution_count": null,

   "id": "823974c8",
   "metadata": {},
   "outputs": [
    {
     "data": {
      "text/plain": [
       "'Rob is the best'"
      ]
     },
     "execution_count": null,
     "metadata": {},
     "output_type": "execute_result"
    }
   ],
   "source": [
    "x"
   ]
  },
  {
   "cell_type": "code",
   "execution_count": null,

   "id": "bd18b1d1",
   "metadata": {},
   "outputs": [],
   "source": [
    "model = PropertyScorer()"
   ]
  },
  {
   "cell_type": "code",
   "execution_count": null,
   "id": "dadf6e09",
   "metadata": {},
   "outputs": [],
   "source": []
  }
 ],
 "metadata": {
  "kernelspec": {
   "display_name": "Python 3",
   "language": "python",
   "name": "python3"
  }
 },
 "nbformat": 4,
 "nbformat_minor": 5
}
