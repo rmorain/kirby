{
 "cells": [
  {
   "cell_type": "code",
   "execution_count": null,
   "metadata": {},
   "outputs": [],
   "source": [
    "# default_exp basic_model"
   ]
  },
  {
   "cell_type": "code",
   "execution_count": null,
   "metadata": {},
   "outputs": [],
   "source": [
    "#export\n",
    "import torch\n",
    "import pytorch_lightning as pl\n",
    "from pytorch_lightning.loggers import TensorBoardLogger\n",
    "from transformers import GPT2Config, GPT2LMHeadModel\n",
    "from kirby.run_params import RunParams\n",
    "from kirby.data_manager import DataManager"
   ]
  },
  {
   "cell_type": "markdown",
   "metadata": {},
   "source": [
    "# Basic Model\n",
    "\n",
    "> A basic Pytorch lighting module"
   ]
  },
  {
   "cell_type": "code",
   "execution_count": null,
   "metadata": {},
   "outputs": [],
   "source": [
    "#export\n",
    "class BasicModel(pl.LightningModule):\n",
    "    def __init__(self, run_params):\n",
    "        super().__init__()\n",
    "        self.run_params = run_params\n",
    "        config = GPT2Config()\n",
    "        self.model = GPT2LMHeadModel(config)\n",
    "        self.loss = torch.nn.CrossEntropyLoss(reduction='none')\n",
    "        pass\n",
    "\n",
    "    def prepare_data(self):\n",
    "        data_manager = DataManager(self.run_params)\n",
    "        self.train_ds, self.val_ds = data_manager.prepare_data()\n",
    "\n",
    "\n",
    "    def forward(self, x):\n",
    "        loss = self.model(x['input_ids'], attention_mask=x['attention_mask'], labels=x['input_ids'])[0]\n",
    "        return loss\n",
    "\n",
    "    def training_step(self, batch, batch_idx):\n",
    "        loss = self.forward(batch)\n",
    "        self.log('train_loss', loss)\n",
    "        return loss\n",
    "\n",
    "    def validation_step(self, batch, batch_idx):\n",
    "        loss = self.forward(batch)\n",
    "        self.log('val_loss', loss)\n",
    "        return loss\n",
    "\n",
    "    def validation_epoch_end(self, losses):\n",
    "        loss = torch.cat([loss.unsqueeze(0) for loss in losses], 0).mean()\n",
    "        self.log('val_loss', loss)\n",
    "\n",
    "    def train_dataloader(self):\n",
    "        return torch.utils.data.DataLoader(\n",
    "                self.train_ds,\n",
    "                batch_size=self.run_params.batch_size,\n",
    "                drop_last=True,\n",
    "                shuffle=True,\n",
    "                num_workers=self.run_params.num_workers,\n",
    "                pin_memory=True\n",
    "                ) \n",
    "\n",
    "    def val_dataloader(self):\n",
    "        return torch.utils.data.DataLoader(\n",
    "                self.val_ds,\n",
    "                batch_size=self.run_params.batch_size,\n",
    "                drop_last=True,\n",
    "                shuffle=False,\n",
    "                num_workers=self.run_params.num_workers,\n",
    "                pin_memory=True\n",
    "                )\n",
    "\n",
    "    def configure_optimizers(self):\n",
    "        return torch.optim.SGD(\n",
    "            self.parameters(),\n",
    "            lr=self.run_params.lr,\n",
    "            momentum=self.run_params.momentum,\n",
    "        ) "
   ]
  },
  {
   "cell_type": "markdown",
   "metadata": {},
   "source": [
    "# Testing"
   ]
  },
  {
   "cell_type": "code",
   "execution_count": null,
   "metadata": {},
   "outputs": [],
   "source": [
    "# Creation\n",
    "basic_model = BasicModel(RunParams())\n",
    "assert isinstance(basic_model, BasicModel)"
   ]
  },
  {
   "cell_type": "code",
   "execution_count": null,
   "metadata": {},
   "outputs": [
    {
     "name": "stderr",
     "output_type": "stream",
     "text": [
      "GPU available: False, used: False\n",
      "TPU available: None, using: 0 TPU cores\n",
      "Using custom data configuration default\n",
      "Reusing dataset text (/Users/robertmorain/.cache/huggingface/datasets/text/default-ffb6d2671372d1b1/0.0.0/daf90a707a433ac193b369c8cc1772139bb6cca21a9c7fe83bdd16aad9b9b6ab)\n"
     ]
    },
    {
     "data": {
      "application/vnd.jupyter.widget-view+json": {
       "model_id": "d21d90bd4e684987b5add12343cf94a8",
       "version_major": 2,
       "version_minor": 0
      },
      "text/plain": [
       "HBox(children=(FloatProgress(value=0.0, max=19.0), HTML(value='')))"
      ]
     },
     "metadata": {},
     "output_type": "display_data"
    },
    {
     "name": "stdout",
     "output_type": "stream",
     "text": [
      "\n"
     ]
    },
    {
     "name": "stderr",
     "output_type": "stream",
     "text": [
      "Using custom data configuration default\n",
      "Reusing dataset text (/Users/robertmorain/.cache/huggingface/datasets/text/default-ffb6d2671372d1b1/0.0.0/daf90a707a433ac193b369c8cc1772139bb6cca21a9c7fe83bdd16aad9b9b6ab)\n"
     ]
    },
    {
     "data": {
      "application/vnd.jupyter.widget-view+json": {
       "model_id": "9afc82ac20024b9a948496177dd6d8a1",
       "version_major": 2,
       "version_minor": 0
      },
      "text/plain": [
       "HBox(children=(FloatProgress(value=0.0, max=1.0), HTML(value='')))"
      ]
     },
     "metadata": {},
     "output_type": "display_data"
    },
    {
     "name": "stderr",
     "output_type": "stream",
     "text": [
      "\n",
      "  | Name  | Type             | Params\n",
      "-------------------------------------------\n",
      "0 | model | GPT2LMHeadModel  | 124 M \n",
      "1 | loss  | CrossEntropyLoss | 0     \n",
      "-------------------------------------------\n",
      "124 M     Trainable params\n",
      "0         Non-trainable params\n",
      "124 M     Total params\n"
     ]
    },
    {
     "name": "stdout",
     "output_type": "stream",
     "text": [
      "\n"
     ]
    },
    {
     "data": {
      "application/vnd.jupyter.widget-view+json": {
       "model_id": "",
       "version_major": 2,
       "version_minor": 0
      },
      "text/plain": [
       "HBox(children=(FloatProgress(value=1.0, bar_style='info', description='Validation sanity check', layout=Layout…"
      ]
     },
     "metadata": {},
     "output_type": "display_data"
    },
    {
     "data": {
      "application/vnd.jupyter.widget-view+json": {
       "model_id": "5b5481481fe14bd987586eb6a15e9adb",
       "version_major": 2,
       "version_minor": 0
      },
      "text/plain": [
       "HBox(children=(FloatProgress(value=1.0, bar_style='info', description='Training', layout=Layout(flex='2'), max…"
      ]
     },
     "metadata": {},
     "output_type": "display_data"
    },
    {
     "name": "stderr",
     "output_type": "stream",
     "text": [
      "/opt/anaconda3/envs/kirby/lib/python3.8/site-packages/pytorch_lightning/utilities/distributed.py:49: UserWarning: Detected KeyboardInterrupt, attempting graceful shutdown...\n",
      "  warnings.warn(*args, **kwargs)\n"
     ]
    },
    {
     "name": "stdout",
     "output_type": "stream",
     "text": [
      "\n"
     ]
    },
    {
     "data": {
      "text/plain": [
       "1"
      ]
     },
     "execution_count": null,
     "metadata": {},
     "output_type": "execute_result"
    }
   ],
   "source": [
    "run_params = RunParams(debug=False)\n",
    "basic_model = BasicModel(run_params)\n",
    "trainer = pl.Trainer(\n",
    "    default_root_dir='logs',\n",
    "    gpus=(1 if torch.cuda.is_available() else 0),\n",
    "    max_epochs=run_params.max_epochs,\n",
    "    fast_dev_run=run_params.debug,\n",
    "    logger=TensorBoardLogger(save_dir='logs/', name=run_params.run_name),\n",
    ")\n",
    "\n",
    "trainer.fit(basic_model)"
   ]
  },
  {
   "cell_type": "code",
   "execution_count": null,
   "metadata": {},
   "outputs": [
    {
     "data": {
      "text/plain": [
       "Dataset({\n",
       "    features: ['attention_mask', 'input_ids', 'text'],\n",
       "    num_rows: 18014\n",
       "})"
      ]
     },
     "execution_count": null,
     "metadata": {},
     "output_type": "execute_result"
    }
   ],
   "source": [
    "basic_model.train_ds"
   ]
  },
  {
   "cell_type": "code",
   "execution_count": null,
   "metadata": {},
   "outputs": [],
   "source": []
  }
 ],
 "metadata": {
  "kernelspec": {
   "display_name": "kirby",
   "language": "python",
   "name": "kirby"
  }
 },
 "nbformat": 4,
 "nbformat_minor": 4
}
