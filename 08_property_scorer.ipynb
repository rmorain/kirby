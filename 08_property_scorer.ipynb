{
 "cells": [
  {
   "cell_type": "code",
   "execution_count": null,
   "id": "internal-genetics",
   "metadata": {},
   "outputs": [],
   "source": [
    "# default_exp property_scorer"
   ]
  },
  {
   "cell_type": "code",
   "execution_count": null,
   "id": "swedish-beauty",
   "metadata": {},
   "outputs": [],
   "source": [
    "from transformers import GPT2Config, GPT2Model\n",
    "from torch import nn"
   ]
  },
  {
   "cell_type": "markdown",
   "id": "specialized-category",
   "metadata": {},
   "source": [
    "# Property Scorer\n",
    "\n",
    "> Score a given input text, property pair. \n",
    "\n",
    "The same transformer with a language model head."
   ]
  },
  {
   "cell_type": "code",
   "execution_count": null,
   "id": "tamil-burner",
   "metadata": {},
   "outputs": [],
   "source": [
    "class PropertyScorer(GPT2Model):\n",
    "    def __init__(self):\n",
    "        config = GPT2Config()\n",
    "        super().__init__(config)\n",
    "        self.transformer = GPT2Model(config)\n",
    "        self.lm_head = nn.Linear(config.n_embd, 1, bias=False)\n",
    "\n",
    "        self.init_weights()\n",
    "\n",
    "        # Model parallel\n",
    "        self.model_parallel = False\n",
    "        self.device_map = None"
   ]
  },
  {
   "cell_type": "markdown",
   "id": "stuffed-store",
   "metadata": {},
   "source": [
    "# Testing"
   ]
  },
  {
   "cell_type": "code",
   "execution_count": null,
   "id": "residential-memory",
   "metadata": {},
   "outputs": [],
   "source": [
    "from kirby.data_manager import DataManager\n",
    "from kirby.run_params import RunParams\n",
    "import torch\n",
    "import numpy as np"
   ]
  },
  {
   "cell_type": "code",
   "execution_count": null,
   "id": "massive-billion",
   "metadata": {},
   "outputs": [],
   "source": [
    "x = \"Rob is the best\"\n",
    "p = \"{Rob : Sux}\""
   ]
  },
  {
   "cell_type": "code",
   "execution_count": null,
   "id": "embedded-remark",
   "metadata": {},
   "outputs": [],
   "source": [
    "x = x + p\n",
    "data_manager = DataManager(RunParams())\n",
    "x = data_manager.tokenizer(x)"
   ]
  },
  {
   "cell_type": "code",
   "execution_count": null,
   "id": "statistical-chassis",
   "metadata": {},
   "outputs": [
    {
     "data": {
      "text/plain": [
       "{'input_ids': [14350, 318, 262, 1266, 90, 14350, 1058, 1778, 87, 92], 'attention_mask': [1, 1, 1, 1, 1, 1, 1, 1, 1, 1]}"
      ]
     },
     "execution_count": null,
     "metadata": {},
     "output_type": "execute_result"
    }
   ],
   "source": [
    "x"
   ]
  },
  {
   "cell_type": "code",
   "execution_count": null,
   "id": "internal-motivation",
   "metadata": {},
   "outputs": [],
   "source": [
    "x = torch.from_numpy(np.array(x['input_ids']))"
   ]
  },
  {
   "cell_type": "code",
   "execution_count": null,
   "id": "sitting-dating",
   "metadata": {},
   "outputs": [],
   "source": [
    "model = PropertyScorer()"
   ]
  },
  {
   "cell_type": "code",
   "execution_count": null,
   "id": "supposed-branch",
   "metadata": {},
   "outputs": [],
   "source": [
    "outputs = model(x)\n",
    "outputs"
   ]
  },
  {
   "cell_type": "code",
   "execution_count": null,
   "id": "round-monster",
   "metadata": {},
   "outputs": [
    {
     "data": {
      "text/plain": [
       "torch.Size([10, 768])"
      ]
     },
     "execution_count": null,
     "metadata": {},
     "output_type": "execute_result"
    }
   ],
   "source": [
    "hidden_states = outputs[0]\n",
    "hidden_states.shape"
   ]
  },
  {
   "cell_type": "code",
   "execution_count": null,
   "id": "dirty-pastor",
   "metadata": {},
   "outputs": [
    {
     "data": {
      "text/plain": [
       "torch.Size([10, 1])"
      ]
     },
     "execution_count": null,
     "metadata": {},
     "output_type": "execute_result"
    }
   ],
   "source": [
    "lm_logits = model.lm_head(hidden_states)\n",
    "lm_logits.shape"
   ]
  },
  {
   "cell_type": "code",
   "execution_count": null,
   "id": "military-sense",
   "metadata": {},
   "outputs": [],
   "source": []
  }
 ],
 "metadata": {
  "kernelspec": {
   "display_name": "Python 3",
   "language": "python",
   "name": "python3"
  }
 },
 "nbformat": 4,
 "nbformat_minor": 5
}
