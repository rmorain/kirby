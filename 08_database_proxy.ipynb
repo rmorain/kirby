{
 "cells": [
  {
   "cell_type": "code",
   "execution_count": 1,
   "metadata": {},
   "outputs": [],
   "source": [
    "# default_exp database_proxy"
   ]
  },
  {
   "cell_type": "markdown",
   "metadata": {},
   "source": [
    "# Database Proxy\n",
    "> Accesses the database"
   ]
  },
  {
   "cell_type": "code",
   "execution_count": 2,
   "metadata": {},
   "outputs": [],
   "source": [
    "#export\n",
    "import pandas as pd\n",
    "import sqlite3\n",
    "import time\n",
    "from kirby.properties import properties"
   ]
  },
  {
   "cell_type": "markdown",
   "metadata": {},
   "source": [
    "Tables organization: \n",
    "Entities_[letter or not_alpha]\n",
    "entity_id: Primary key, Unique \n",
    "label: name of the entity\n",
    "description: Short description \n",
    "\n",
    "Properties_relations Table\n",
    "entity_id: relationship of  \n",
    "relations: List of all relations\n",
    "\n",
    "Aliases Table\n",
    "entity_id \n",
    "alias: Other labels. \n",
    "\n",
    "Properties Table\n",
    "property_id Unique primary key  \n",
    "label:Description of the Property "
   ]
  },
  {
   "cell_type": "code",
   "execution_count": 3,
   "metadata": {
    "tags": []
   },
   "outputs": [],
   "source": [
    "#export\n",
    "class WikiDatabase:\n",
    "    conn = None\n",
    "    def __init__(self):\n",
    "        try:\n",
    "            self.conn = sqlite3.connect('./data/db/wiki_data.db')\n",
    "            print(self.conn)\n",
    "        except Exception as e:\n",
    "            print(e)\n",
    "            exit(-1)\n",
    "\n",
    "    def exit_procedure(self):\n",
    "        pass\n",
    "#         self.conn.close()\n",
    "#         exit(-1)\n",
    "        \n",
    "\n",
    "    @staticmethod\n",
    "    def get_table_name(entity_label):\n",
    "        \"\"\"\n",
    "        @:param self:\n",
    "        @:param label of the entity for which you need to\n",
    "        :rtype: string\n",
    "        @:return name of the table where entity is stored\n",
    "        \"\"\"\n",
    "        if entity_label[0].isalpha():\n",
    "            return entity_label[0].lower()\n",
    "        else:\n",
    "            return 'not_alpha'\n",
    "\n",
    "    @staticmethod\n",
    "    def clean_relations(relations_string):\n",
    "        \"\"\"\n",
    "        :param relations_string: List of all the relations returned by database\n",
    "        :type relations_string: string\n",
    "        :return: list of all relations\n",
    "        :rtype: List\n",
    "        \"\"\"\n",
    "        relations = []\n",
    "        relation_row = []\n",
    "        # print(relations_string)\n",
    "        for idx, relation in enumerate(relations_string.split(',')):\n",
    "            if idx & 1 == 1:\n",
    "                relation_row.append(relation[1:-1])\n",
    "            else:\n",
    "                relation_row.append(relation[1:])\n",
    "            if len(relation_row) == 2:\n",
    "                relations.append(relation_row + [])\n",
    "                # print(relation_row)\n",
    "                relation_row.clear()\n",
    "        # print(relations)\n",
    "        return relations\n",
    "\n",
    "    @staticmethod\n",
    "    def get_property_label(relations_id):\n",
    "        \"\"\"\n",
    "            :param property_id: id of the property to look for\n",
    "            :type property_id:\n",
    "            :return: label of the given id, None if the id does not exist\n",
    "            :rtype:\n",
    "        \"\"\"\n",
    "        return property_dict[relations_id]\n",
    "\n",
    "    @staticmethod\n",
    "    def remove_quotations(label):\n",
    "        index = 0\n",
    "        while index < len(label):\n",
    "            if label[index] == '\\'':\n",
    "                label = label[:index] + '\\'' + label[index:]\n",
    "                index += 1\n",
    "            elif label[index] == \"\\\"\":\n",
    "                label = label[:index - 1] + '\\'' + '\\'' + label[index:]\n",
    "                index += 1\n",
    "            index += 1\n",
    "\n",
    "        return label\n",
    "\n",
    "    # TODO: Test the return value\n",
    "    # TODO: change to check in the entities table\n",
    "    def get_similar_entities_label(self, label):\n",
    "        \"\"\"\n",
    "        Returns a list of entities id where the label matches the entity_label name\n",
    "        :param self:\n",
    "        :type self:\n",
    "        :param label:\n",
    "        :type label:\n",
    "        :return: list of all the entities id and label where the label matched\n",
    "        :rtype: Array containing all similar entities\n",
    "        \"\"\"\n",
    "        entities_id = None\n",
    "        try:\n",
    "            print('I love me!')\n",
    "            entities_id = pd.read_sql_query(\n",
    "                \"SELECT * FROM Entities WHERE label  LIKE \\\"%{}%\\\";\".format(self.remove_quotations(label)),\n",
    "                self.conn)\n",
    "        except Exception as e:\n",
    "            print(e)\n",
    "            self.exit_procedure()\n",
    "        return entities_id.values.tolist()\n",
    "\n",
    "    def get_entities_by_label_extensive(self, label):\n",
    "        \"\"\"\n",
    "        Returns a list of entities id where the label matches the entity_label name\n",
    "        :param self:\n",
    "        :type self:\n",
    "        :param label:\n",
    "        :type label:\n",
    "        :return: list of all the entities id and label where the label matched\n",
    "        :rtype: Array containing all similar entities\n",
    "        \"\"\"\n",
    "        table_name = self.get_table_name(label)\n",
    "        entities_id = None\n",
    "        try:\n",
    "            entities_id = pd.read_sql_query(\n",
    "                \"SELECT * FROM Entities_{} WHERE label  LIKE \\\"{}%\\\";\".format(table_name, self.remove_quotations(label)),\n",
    "                self.conn)\n",
    "        except Exception as e:\n",
    "            print(e)\n",
    "            self.exit_procedure()\n",
    "        return entities_id.values.tolist()\n",
    "\n",
    "    def get_entity_by_label(self, label):\n",
    "        \"\"\"\n",
    "        Search for the id, label and description of an specific identity\n",
    "        :param label: string of the label to look for\n",
    "        :type label: string\n",
    "        :return: id, label and description of the label\n",
    "        :rtype: pandas.core.series.Series\n",
    "        \"\"\"\n",
    "        entity_id = None\n",
    "        table_name = self.get_table_name(label)\n",
    "        try:\n",
    "            entity_id = pd.read_sql_query(\n",
    "                \"SELECT * FROM Entities_{} WHERE label =  \\\"{}\\\";\".format(table_name, self.remove_quotations(label)),\n",
    "                self.conn)\n",
    "        except Exception as e:\n",
    "            print(e)\n",
    "            self.exit_procedure()\n",
    "        return entity_id.values.tolist()\n",
    "\n",
    "    def get_entity_properties(self, entity_id):\n",
    "        \"\"\"\n",
    "        Search for all properties of the entity\n",
    "        Return all the\n",
    "        :param entity_id: id of a entity\n",
    "        :type entity_id: str\n",
    "        :return: data frame with a string of the relations\n",
    "        :rtype: pandas.core.series.Series\n",
    "        \"\"\"\n",
    "        entity_properties = None\n",
    "        try:\n",
    "            entity_properties = pd.read_sql_query(\n",
    "                \"SELECT * FROM Properties_relations WHERE entity_id = \\\"{}\\\";\".format(entity_id),\n",
    "                self.conn)\n",
    "        except Exception as e:\n",
    "            print(e)\n",
    "            self.exit_procedure()\n",
    "        if entity_properties.empty:\n",
    "            return None\n",
    "        return self.clean_relations(entity_properties['relations'].values[0])\n",
    "\n",
    "    def get_entity_by_id(self, entity_id):\n",
    "\n",
    "        relation_label = None\n",
    "        try:\n",
    "            relation_label = pd.read_sql_query(\n",
    "                \"SELECT label, description FROM Entities WHERE entity_id = \\\"{}\\\"\".format(entity_id),\n",
    "                self.conn)\n",
    "        except Exception as e:\n",
    "            print(e)\n",
    "            self.exit_procedure()\n",
    "        if relation_label.empty:\n",
    "            return None\n",
    "        return relation_label.iloc[0][\"label\"]\n",
    "\n",
    "    def get_relation_string(self, property_id, related_entity_id):\n",
    "        \"\"\"\n",
    "        :param property_id:\n",
    "        :type property_id: string\n",
    "        :param related_entity_id:\n",
    "        :type related_entity_id: string\n",
    "        :return:\n",
    "        :rtype: string describing the relationship\n",
    "        \"\"\"\n",
    "        entity_label = None\n",
    "        related_entity_label = None\n",
    "        property_name = None\n",
    "        try:\n",
    "            # entity_label = get_entity_label(entity_id)\n",
    "            related_entity_label = self.get_entity_by_id(related_entity_id)\n",
    "            property_name = property_dict[property_id]\n",
    "        except Exception as e:\n",
    "            print(e)\n",
    "            self.exit_procedure()\n",
    "        if entity_label is None or related_entity_label is None or property_name is None:\n",
    "            return None\n",
    "        return \"{}: {}\".format(property_name, related_entity_label)"
   ]
  },
  {
   "cell_type": "markdown",
   "metadata": {},
   "source": [
    "# Testing"
   ]
  },
  {
   "cell_type": "code",
   "execution_count": 5,
   "metadata": {},
   "outputs": [
    {
     "name": "stdout",
     "output_type": "stream",
     "text": [
      "unable to open database file\n"
     ]
    }
   ],
   "source": [
    "# Creation\n",
    "db = WikiDatabase()\n",
    "assert isinstance(db, WikiDatabase)"
   ]
  },
  {
   "cell_type": "code",
   "execution_count": 9,
   "metadata": {},
   "outputs": [
    {
     "ename": "AssertionError",
     "evalue": "No DB connection",
     "output_type": "error",
     "traceback": [
      "\u001b[0;31m---------------------------------------------------------------------------\u001b[0m",
      "\u001b[0;31mAssertionError\u001b[0m                            Traceback (most recent call last)",
      "\u001b[0;32m<ipython-input-9-669ab5c3e1ac>\u001b[0m in \u001b[0;36m<module>\u001b[0;34m\u001b[0m\n\u001b[1;32m      1\u001b[0m \u001b[0;31m# Test Connection\u001b[0m\u001b[0;34m\u001b[0m\u001b[0;34m\u001b[0m\u001b[0;34m\u001b[0m\u001b[0m\n\u001b[0;32m----> 2\u001b[0;31m \u001b[0;32massert\u001b[0m \u001b[0mdb\u001b[0m\u001b[0;34m.\u001b[0m\u001b[0mconn\u001b[0m \u001b[0;32mis\u001b[0m \u001b[0;32mnot\u001b[0m \u001b[0;32mNone\u001b[0m\u001b[0;34m,\u001b[0m \u001b[0;34m\"No DB connection\"\u001b[0m\u001b[0;34m\u001b[0m\u001b[0;34m\u001b[0m\u001b[0m\n\u001b[0m",
      "\u001b[0;31mAssertionError\u001b[0m: No DB connection"
     ]
    }
   ],
   "source": [
    "# Test Connection\n",
    "assert db.conn is not None, \"No DB connection\""
   ]
  },
  {
   "cell_type": "code",
   "execution_count": 4,
   "metadata": {},
   "outputs": [
    {
     "name": "stdout",
     "output_type": "stream",
     "text": [
      "unable to open database file\n",
      "'NoneType' object has no attribute 'cursor'\n"
     ]
    },
    {
     "ename": "AttributeError",
     "evalue": "'NoneType' object has no attribute 'values'",
     "output_type": "error",
     "traceback": [
      "\u001b[0;31m---------------------------------------------------------------------------\u001b[0m",
      "\u001b[0;31mAttributeError\u001b[0m                            Traceback (most recent call last)",
      "\u001b[0;32m<ipython-input-4-460e942800fe>\u001b[0m in \u001b[0;36m<module>\u001b[0;34m\u001b[0m\n\u001b[1;32m      1\u001b[0m \u001b[0mwiki\u001b[0m \u001b[0;34m=\u001b[0m \u001b[0mWikiDatabase\u001b[0m\u001b[0;34m(\u001b[0m\u001b[0;34m)\u001b[0m\u001b[0;34m\u001b[0m\u001b[0;34m\u001b[0m\u001b[0m\n\u001b[1;32m      2\u001b[0m \u001b[0mstart_time\u001b[0m \u001b[0;34m=\u001b[0m \u001b[0mtime\u001b[0m\u001b[0;34m.\u001b[0m\u001b[0mtime\u001b[0m\u001b[0;34m(\u001b[0m\u001b[0;34m)\u001b[0m\u001b[0;34m\u001b[0m\u001b[0;34m\u001b[0m\u001b[0m\n\u001b[0;32m----> 3\u001b[0;31m \u001b[0mresult\u001b[0m \u001b[0;34m=\u001b[0m \u001b[0mwiki\u001b[0m\u001b[0;34m.\u001b[0m\u001b[0mget_entity_by_label\u001b[0m\u001b[0;34m(\u001b[0m\u001b[0;34m'Stephen Curry'\u001b[0m\u001b[0;34m)\u001b[0m\u001b[0;34m\u001b[0m\u001b[0;34m\u001b[0m\u001b[0m\n\u001b[0m\u001b[1;32m      4\u001b[0m \u001b[0mprint\u001b[0m\u001b[0;34m(\u001b[0m\u001b[0;34m'Query tool : {}'\u001b[0m\u001b[0;34m.\u001b[0m\u001b[0mformat\u001b[0m\u001b[0;34m(\u001b[0m\u001b[0mtime\u001b[0m\u001b[0;34m.\u001b[0m\u001b[0mtime\u001b[0m\u001b[0;34m(\u001b[0m\u001b[0;34m)\u001b[0m\u001b[0;34m-\u001b[0m \u001b[0mstart_time\u001b[0m\u001b[0;34m)\u001b[0m\u001b[0;34m)\u001b[0m\u001b[0;34m\u001b[0m\u001b[0;34m\u001b[0m\u001b[0m\n\u001b[1;32m      5\u001b[0m \u001b[0mprint\u001b[0m\u001b[0;34m(\u001b[0m\u001b[0mtype\u001b[0m\u001b[0;34m(\u001b[0m\u001b[0mresult\u001b[0m\u001b[0;34m)\u001b[0m\u001b[0;34m)\u001b[0m\u001b[0;34m\u001b[0m\u001b[0;34m\u001b[0m\u001b[0m\n",
      "\u001b[0;32m<ipython-input-3-68ccf806aeab>\u001b[0m in \u001b[0;36mget_entity_by_label\u001b[0;34m(self, label)\u001b[0m\n\u001b[1;32m    137\u001b[0m             \u001b[0mprint\u001b[0m\u001b[0;34m(\u001b[0m\u001b[0me\u001b[0m\u001b[0;34m)\u001b[0m\u001b[0;34m\u001b[0m\u001b[0;34m\u001b[0m\u001b[0m\n\u001b[1;32m    138\u001b[0m             \u001b[0mself\u001b[0m\u001b[0;34m.\u001b[0m\u001b[0mexit_procedure\u001b[0m\u001b[0;34m(\u001b[0m\u001b[0;34m)\u001b[0m\u001b[0;34m\u001b[0m\u001b[0;34m\u001b[0m\u001b[0m\n\u001b[0;32m--> 139\u001b[0;31m         \u001b[0;32mreturn\u001b[0m \u001b[0mentity_id\u001b[0m\u001b[0;34m.\u001b[0m\u001b[0mvalues\u001b[0m\u001b[0;34m.\u001b[0m\u001b[0mtolist\u001b[0m\u001b[0;34m(\u001b[0m\u001b[0;34m)\u001b[0m\u001b[0;34m\u001b[0m\u001b[0;34m\u001b[0m\u001b[0m\n\u001b[0m\u001b[1;32m    140\u001b[0m \u001b[0;34m\u001b[0m\u001b[0m\n\u001b[1;32m    141\u001b[0m     \u001b[0;32mdef\u001b[0m \u001b[0mget_entity_properties\u001b[0m\u001b[0;34m(\u001b[0m\u001b[0mself\u001b[0m\u001b[0;34m,\u001b[0m \u001b[0mentity_id\u001b[0m\u001b[0;34m)\u001b[0m\u001b[0;34m:\u001b[0m\u001b[0;34m\u001b[0m\u001b[0;34m\u001b[0m\u001b[0m\n",
      "\u001b[0;31mAttributeError\u001b[0m: 'NoneType' object has no attribute 'values'"
     ]
    }
   ],
   "source": [
    "wiki = WikiDatabase()\n",
    "start_time = time.time()\n",
    "result = wiki.get_entity_by_label('Stephen Curry')\n",
    "print('Query tool : {}'.format(time.time()- start_time))\n",
    "print(type(result))\n",
    "print(result)\n",
    "wiki.exit_procedure()"
   ]
  },
  {
   "cell_type": "code",
   "execution_count": null,
   "metadata": {},
   "outputs": [],
   "source": [
    "wiki = WikiDatabase()\n",
    "result = wiki.get_entity_by_label('Cristiano Ronaldo')\n",
    "print(result)"
   ]
  }
 ],
 "metadata": {
  "kernelspec": {
   "display_name": "Python 3",
   "language": "python",
   "name": "python3"
  },
  "language_info": {
   "codemirror_mode": {
    "name": "ipython",
    "version": 3
   },
   "file_extension": ".py",
   "mimetype": "text/x-python",
   "name": "python",
   "nbconvert_exporter": "python",
   "pygments_lexer": "ipython3",
   "version": "3.8.5"
  }
 },
 "nbformat": 4,
 "nbformat_minor": 4
}
