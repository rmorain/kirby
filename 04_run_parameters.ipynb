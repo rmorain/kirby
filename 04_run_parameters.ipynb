{
 "cells": [
  {
   "cell_type": "code",
   "execution_count": null,
   "metadata": {},
   "outputs": [],
   "source": [
    "# default_exp run_params\n",
    "%load_ext autoreload\n",
    "%autoreload 2"
   ]
  },
  {
   "cell_type": "code",
   "execution_count": null,
   "metadata": {},
   "outputs": [],
   "source": [
    "#export\n",
    "import multiprocessing"
   ]
  },
  {
   "cell_type": "markdown",
   "metadata": {},
   "source": [
    "# RunParams\n",
    "\n",
    "> An object that contains all the parameters necessary to run an `Experiment`. "
   ]
  },
  {
   "cell_type": "code",
   "execution_count": null,
   "metadata": {},
   "outputs": [],
   "source": [
    "#export\n",
    "class RunParams():\n",
    "    def __init__(self, \n",
    "                model='gpt2',\n",
    "                data_dir = 'data/',\n",
    "                data_files = {'train': ['data/wiki.train.raw'], 'valid': ['data/wiki.valid.raw'], 'test': ['data/wiki.test.raw']},\n",
    "                max_epochs=1000,\n",
    "                debug=True,\n",
    "                batch_size=8,\n",
    "                data_set_percentage=1,\n",
    "                seq_length=32,\n",
    "                statement_length=16,\n",
    "                momentum=.9,\n",
    "                lr=1e-2,\n",
    "                repo='wikitext-103-raw-v1',\n",
    "                num_workers=multiprocessing.cpu_count(),\n",
    "                kb_statements_file=None,\n",
    "                run_name='test',\n",
    "                project_name='kirby'\n",
    "            ):\n",
    "            \n",
    "        self.model = model\n",
    "        self.data_dir = data_dir\n",
    "        self.data_files = data_files\n",
    "        self.max_epochs = max_epochs\n",
    "        self.debug = debug\n",
    "        self.batch_size = batch_size\n",
    "        self.data_set_percentage = data_set_percentage\n",
    "        self.seq_length = seq_length\n",
    "        self.statement_length = statement_length\n",
    "        self.momentum = momentum\n",
    "        self.lr = lr\n",
    "        self.repo = repo\n",
    "        self.num_workers = num_workers\n",
    "        self.kb_statements_file = kb_statements_file\n",
    "        self.run_name = run_name\n",
    "        self.project_name = project_name\n"
   ]
  },
  {
   "cell_type": "markdown",
   "metadata": {},
   "source": [
    "# Testing"
   ]
  },
  {
   "cell_type": "code",
   "execution_count": null,
   "metadata": {},
   "outputs": [],
   "source": [
    "# Creation\n",
    "run_params = RunParams()\n",
    "assert isinstance(run_params, RunParams)"
   ]
  },
  {
   "cell_type": "code",
   "execution_count": null,
   "metadata": {},
   "outputs": [
    {
     "data": {
      "text/plain": [
       "'test'"
      ]
     },
     "execution_count": null,
     "metadata": {},
     "output_type": "execute_result"
    }
   ],
   "source": [
    "run_params.run_name"
   ]
  },
  {
   "cell_type": "code",
   "execution_count": null,
   "metadata": {},
   "outputs": [],
   "source": []
  }
 ],
 "metadata": {
  "kernelspec": {
   "display_name": "Python 3",
   "language": "python",
   "name": "python3"
  }
 },
 "nbformat": 4,
 "nbformat_minor": 4
}
