{
 "cells": [
  {
   "cell_type": "code",
   "execution_count": null,
   "metadata": {},
   "outputs": [],
   "source": [
    "#default_exp insert_to_database"
   ]
  },
  {
   "cell_type": "markdown",
   "metadata": {},
   "source": [
    "# Insert To Database\n",
    "\n",
    "> Connects to database and inserts `sql_statements.txt'\n",
    "\n",
    "Run this after `create_database_tables`"
   ]
  },
  {
   "cell_type": "code",
   "execution_count": null,
   "metadata": {},
   "outputs": [],
   "source": [
    "#export\n",
    "from qwikidata.json_dump import WikidataJsonDump\n",
    "import sqlite3"
   ]
  },
  {
   "cell_type": "code",
   "execution_count": null,
   "metadata": {},
   "outputs": [],
   "source": [
    "#export\n",
    "connection = sqlite3.connect(\"wiki_database2.db\") # Name of your database\n",
    "sql_query = []\n",
    "last_line = ''\n",
    "crsr = connection.cursor()\n",
    "count = 0\n",
    "with open('sql_statements.txt', 'r', encoding=\"utf-8\") as file: # Name of the file where you wrote wikidata to\n",
    "    while True:\n",
    "        line = file.readline()\n",
    "        if not line:\n",
    "            break\n",
    "        if line == '\\n':\n",
    "            # print('Hello')\n",
    "            # print(sql_query)\n",
    "            file.readline()\n",
    "            file.readline()\n",
    "            file.readline()\n",
    "            # sql_command = '\\\"\\\"\\\"{}\\\"\\\"\\\"'.format(sql_query)\n",
    "            try:\n",
    "                if len(sql_query) == 0 or sql_query[0] == \"INSERT INTO Aliases\\n\" or sql_query[1] == \"INSERT INTO Aliases\\n\":\n",
    "                    sql_query.clear()\n",
    "                    continue\n",
    "                if sql_query[-1][-1] == ',':\n",
    "                    sql_query[-1] = sql_query[-1][:-1] + ';'\n",
    "\n",
    "                crsr.execute(''.join(sql_query))\n",
    "            except Exception as e:\n",
    "                print(e)\n",
    "                for line in sql_query:\n",
    "                    print(line, end='')\n",
    "                print('Something went wrong')\n",
    "                break\n",
    "            connection.commit()\n",
    "            sql_query.clear()\n",
    "\n",
    "        sql_query.append(line)\n",
    "\n",
    "# close the connection\n",
    "connection.close()\n"
   ]
  }
 ],
 "metadata": {
  "kernelspec": {
   "display_name": "Python 3",
   "language": "python",
   "name": "python3"
  }
 },
 "nbformat": 4,
 "nbformat_minor": 4
}
