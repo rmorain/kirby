{
 "cells": [
  {
   "cell_type": "code",
   "execution_count": null,
   "metadata": {},
   "outputs": [],
   "source": [
    "#default_exp insert_to_database\n",
    "%load_ext autoreload\n",
    "%autoreload 2"
   ]
  },
  {
   "cell_type": "markdown",
   "metadata": {},
   "source": [
    "# Insert To Database\n",
    "\n",
    "> Connects to database and inserts `sql_statements.txt'\n",
    "\n",
    "Run this after `create_database_tables`"
   ]
  },
  {
   "cell_type": "code",
   "execution_count": null,
   "metadata": {},
   "outputs": [],
   "source": [
    "#export\n",
    "from qwikidata.json_dump import WikidataJsonDump\n",
    "import sqlite3"
   ]
  },
  {
   "cell_type": "code",
   "execution_count": null,
   "metadata": {},
   "outputs": [],
   "source": [
    "# #export\n",
    "# # Use if you created a text file when reading the wikidata file and now you want to insert the data to a database\n",
    "\n",
    "# def text_to_database(database_path, text_path):\n",
    "#     connection = sqlite3.connect(database_path) # Name of your database\n",
    "#     sql_query = []\n",
    "#     last_line = ''\n",
    "#     crsr = connection.cursor()\n",
    "#     count = 0\n",
    "#     with open(text_path, 'r', encoding=\"utf-8\") as file: # Name of the file where you wrote wikidata to\n",
    "#         while True:\n",
    "#             line = file.readline()\n",
    "#             if not line:\n",
    "#                 break\n",
    "#             if line == '\\n':\n",
    "#                 # print('Hello')\n",
    "#                 # print(sql_query)\n",
    "#                 file.readline()\n",
    "#                 file.readline()\n",
    "#                 file.readline()\n",
    "#                 # sql_command = '\\\"\\\"\\\"{}\\\"\\\"\\\"'.format(sql_query)\n",
    "#                 try:\n",
    "#                     if len(sql_query) < 2:\n",
    "#                         continue\n",
    "#                     if sql_query[-1][-1] == ',':\n",
    "#                         sql_query[-1] = sql_query[-1][:-1] + ';'\n",
    "#                     crsr.execute(''.join(sql_query))\n",
    "#                 except Exception as e:\n",
    "#                     print(e)\n",
    "#                     for line in sql_query:\n",
    "#                         print(line, end='')\n",
    "#                     print('Something went wrong with the following ')\n",
    "#                     break\n",
    "#                     connection.commit()\n",
    "#                     sql_query.clear()\n",
    "\n",
    "#             sql_query.append(line)\n",
    "\n",
    "# # close the connection\n",
    "#         connection.close()\n",
    "\n",
    "# def main():\n",
    "#     database_path = input('Enter the path to the database')\n",
    "#     sql_statements = input('Enter the path to the .txt file containing the sql statements')\n",
    "#     text_to_database(database_path, sql_statements)\n",
    "    \n",
    "# if __name__ == '__main__':\n",
    "#     main()"
   ]
  },
  {
   "cell_type": "code",
   "execution_count": null,
   "metadata": {},
   "outputs": [],
   "source": []
  }
 ],
 "metadata": {
  "kernelspec": {
   "display_name": "Python 3",
   "language": "python",
   "name": "python3"
  }
 },
 "nbformat": 4,
 "nbformat_minor": 4
}
