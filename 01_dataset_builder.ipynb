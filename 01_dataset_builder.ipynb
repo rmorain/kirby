{
 "cells": [
  {
   "cell_type": "code",
   "execution_count": null,
   "metadata": {},
   "outputs": [],
   "source": [
    "# default_exp dataset_builder"
   ]
  },
  {
   "cell_type": "markdown",
   "metadata": {},
   "source": [
    "# Dataset Builder\n",
    "> Builds an optimal dataset with knowledge base relations, from a vanilla dataset."
   ]
  },
  {
   "cell_type": "code",
   "execution_count": 1,
   "metadata": {},
   "outputs": [],
   "source": [
    "# !pip install tensorflow\n",
    "# !pip install tensorflow_hub\n",
    "# !pip install spacy\n",
    "# !pip install sklearn\n",
    "# !python -m spacy download en_core_web_sm"
   ]
  },
  {
   "cell_type": "code",
   "execution_count": 1,
   "metadata": {},
   "outputs": [],
   "source": [
    "#export \n",
    "import random\n",
    "from rake_nltk import Rake\n",
    "from kirby.database_proxy import WikiDatabase\n",
    "import json\n",
    "import importlib\n",
    "import spacy\n",
    "import tensorflow_hub as hub\n",
    "from sklearn.neighbors import NearestNeighbors"
   ]
  },
  {
   "cell_type": "code",
   "execution_count": 3,
   "metadata": {},
   "outputs": [],
   "source": [
    "# importlib.reload(kirby.database_proxy)"
   ]
  },
  {
   "cell_type": "code",
   "execution_count": 2,
   "metadata": {},
   "outputs": [],
   "source": [
    "#export\n",
    "class DatasetBuilder():\n",
    "    def __init__(self):\n",
    "        self.rake = Rake()\n",
    "        self.db = WikiDatabase()\n",
    "        self.nlp = spacy.load('en_core_web_sm')\n",
    "        module_url = \"https://tfhub.dev/google/universal-sentence-encoder/4\" #@param [\"https://tfhub.dev/google/universal-sentence-encoder/4\", \"https://tfhub.dev/google/universal-sentence-encoder-large/5\"]\n",
    "        self.encoder = hub.load(module_url)\n",
    "        pass\n",
    "    \n",
    "    def build(self, ds, dataset_type='random'):\n",
    "        \"Build a database based a given dataset\"\n",
    "        if dataset_type == 'random':\n",
    "            ds.map(self.random, batched=False)\n",
    "        elif dataset_type == 'description':\n",
    "            pass\n",
    "        elif dataset_type == 'relevant':\n",
    "            pass\n",
    "        \n",
    "    def keyword(self, x):\n",
    "        ranked_phrases = self.get_ranked_phrases(x)\n",
    "        return ranked_phrases[0]\n",
    "    \n",
    "    def get_ranked_phrases(self, x):\n",
    "        self.rake.extract_keywords_from_text(x)\n",
    "        return self.rake.get_ranked_phrases()\n",
    "    \n",
    "    #staticmethod\n",
    "    def add_to_accepted(self, a_sentences, sentence):\n",
    "        if len(a_sentences) > 2:\n",
    "            a_sentences.pop(0)\n",
    "        a_sentences.append(sentence)\n",
    "    \n",
    "\n",
    "    def get_entities_in_text(self, x, random_entities=False):\n",
    "        accepted_sentence = []\n",
    "        accepted_entities = []\n",
    "        print(self.nlp)\n",
    "        doc = self.nlp(x)\n",
    "        for entity in doc.ents: \n",
    "            if entity.label_ == 'CARDINAL': \n",
    "                continue\n",
    "            print(entity.text, entity.label_)\n",
    "            result = self.db.get_entity_by_label(entity.text)\n",
    "            if len(result) == 0:\n",
    "                continue\n",
    "            elif len(result) > 1:\n",
    "                result = self.db.get_entities_by_label_extensive(entity.text)\n",
    "                if len(accepted_sentence) == 0 or random_entities:\n",
    "                    q_a_index = random.randint(0, len(result) - 1)\n",
    "                else:\n",
    "                    encoded_sentences = self.encoder(accepted_sentence)  # array of sentence vectors\n",
    "\n",
    "                    proposed_sentences = []\n",
    "                    for entity_w in result:\n",
    "                        proposed_sentences.append(entity_w[2])\n",
    "                    encoded_proposed = self.encoder(proposed_sentences)\n",
    "                    neigh = NearestNeighbors(n_neighbors=1)\n",
    "                    neigh.fit(encoded_proposed)\n",
    "                    closest = neigh.kneighbors(encoded_sentences)\n",
    "                    q_a_index = closest[1][0][0]\n",
    "                self.add_to_accepted(accepted_sentence, result[q_a_index][2])\n",
    "                accepted_entities.append(result[q_a_index])\n",
    "\n",
    "            else:\n",
    "                # print('Accepted:', result[0])\n",
    "                self.add_to_accepted(accepted_sentence, result[0][2])\n",
    "                accepted_entities.append(result[0]) \n",
    "        return accepted_entities\n",
    "\n",
    "    def entity(self, ranked_phrases):\n",
    "        \"Queries the knowledge base to find the entity and it's relations\"\n",
    "        for phrase in ranked_phrases:\n",
    "            entity = self.kba.get_entity(phrase)\n",
    "            if entity is not None:\n",
    "                return entity\n",
    "        return entity   \n",
    "    def get_entity_properties_strings(self, entity_id):\n",
    "        entity_properties_dict = {}\n",
    "        for entity_property in self.db.get_entity_properties(entity_id): \n",
    "            property_name, related_entity_label = self.db.get_property_string(entity_property[0], entity_property[1])\n",
    "            entity_properties_dict[property_name] = related_entity_label\n",
    "        return entity_properties_dict"
   ]
  },
  {
   "cell_type": "markdown",
   "metadata": {},
   "source": [
    "# Testing"
   ]
  },
  {
   "cell_type": "code",
   "execution_count": 3,
   "metadata": {},
   "outputs": [
    {
     "name": "stdout",
     "output_type": "stream",
     "text": [
      "<sqlite3.Connection object at 0x7f180c09e8a0>\n"
     ]
    }
   ],
   "source": [
    "# creation\n",
    "ds_builder = DatasetBuilder()\n",
    "assert isinstance(ds_builder, DatasetBuilder)"
   ]
  },
  {
   "cell_type": "code",
   "execution_count": 4,
   "metadata": {},
   "outputs": [
    {
     "name": "stdout",
     "output_type": "stream",
     "text": [
      "['favorite basketball player', 'stephen curry']\n"
     ]
    }
   ],
   "source": [
    "# Test ranked phrases\n",
    "x = \"Stephen Curry is my favorite basketball player.\"\n",
    "ds_builder.rake.extract_keywords_from_text(x)\n",
    "ranked_phrases = ds_builder.rake.get_ranked_phrases()\n",
    "print(ranked_phrases)"
   ]
  },
  {
   "cell_type": "code",
   "execution_count": 5,
   "metadata": {},
   "outputs": [
    {
     "name": "stdout",
     "output_type": "stream",
     "text": [
      "<sqlite3.Connection object at 0x7f180c09e8a0>\n",
      "[['Q11571', 'Cristiano Ronaldo', 'Portuguese association football player']]\n"
     ]
    }
   ],
   "source": [
    "print(ds_builder.db.conn)\n",
    "print(ds_builder.db.get_entity_by_label('Cristiano Ronaldo'))"
   ]
  },
  {
   "cell_type": "code",
   "execution_count": null,
   "metadata": {},
   "outputs": [],
   "source": []
  },
  {
   "cell_type": "code",
   "execution_count": 6,
   "metadata": {},
   "outputs": [
    {
     "name": "stdout",
     "output_type": "stream",
     "text": [
      "<spacy.lang.en.English object at 0x7f18bdfc8eb0>\n",
      "Microsoft ORG\n",
      "Bethesda ORG\n",
      "[['Q62079863', 'Microsoft Docs', ''], ['Q4897997', 'Bethesda Presbyterian Church', '']]\n"
     ]
    }
   ],
   "source": [
    "# Get random association\n",
    "x = \"Microsoft has bought Bethesda\"\n",
    "random_association = ds_builder.get_entities_in_text(x)\n",
    "print(random_association)"
   ]
  },
  {
   "cell_type": "code",
   "execution_count": 8,
   "metadata": {},
   "outputs": [
    {
     "name": "stdout",
     "output_type": "stream",
     "text": [
      "[['P25', 'Q454928'], ['P19', 'Q5083'], ['P26', 'Q463877'], ['P106', 'Q131524'], ['P27', 'Q30'], ['P108', 'Q655286'], ['P69', 'Q7879362'], ['P910', 'Q7112419'], ['P31', 'Q5'], ['P551', 'Q1506847'], ['P166', 'Q12201445'], ['P1343', 'Q17311605'], ['P735', 'Q12344159'], ['P39', 'Q484876'], ['P734', 'Q16870134'], ['P40', 'Q23011254'], ['P172', 'Q7435494'], ['P463', 'Q463303'], ['P3438', 'Q575937'], ['P1412', 'Q1860'], ['P21', 'Q6581097'], ['P1830', 'Q2283'], ['P1441', 'Q12125162'], ['P6886', 'Q1860'], ['P641', 'Q188966'], ['P552', 'Q789447'], ['P22', 'Q684014'], ['P8017', 'L19333-F1'], ['P6553', 'L485'], ['P3373', 'Q92466067'], ['P1344', 'Q16972891']]\n",
      "Mary Maxwell Gates mother\n",
      "Seattle place of birth\n",
      "Melinda Gates spouse\n",
      "entrepreneur occupation\n",
      "United States of America country of citizenship\n",
      "Bill & Melinda Gates Foundation employer\n",
      "Lakeside School educated at\n",
      "Category:Bill Gates topic's main category\n",
      "human instance of\n",
      "Medina residence\n",
      "Knight Commander of the Order of the British Empire award received\n",
      "Lentapedia (full versions) described by source\n",
      "William given name\n",
      "chief executive officer position held\n",
      "Gates family name\n",
      "Jennifer Katherine Gates child\n",
      "Scotch-Irish Americans ethnic group\n",
      "American Academy of Arts and Sciences member of\n",
      "Porsche 959 vehicle normally used\n",
      "English languages spoken, written or signed\n",
      "male sex or gender\n",
      "Microsoft owner of\n",
      "iSteve present in work\n",
      "English writing language\n",
      "contract bridge sport\n",
      "left-handedness handedness\n",
      "William H. Gates Jr. father\n",
      "None generational suffix\n"
     ]
    },
    {
     "ename": "TypeError",
     "evalue": "cannot unpack non-iterable NoneType object",
     "output_type": "error",
     "traceback": [
      "\u001b[0;31m---------------------------------------------------------------------------\u001b[0m",
      "\u001b[0;31mTypeError\u001b[0m                                 Traceback (most recent call last)",
      "\u001b[0;32m<ipython-input-8-39c0bb2bd44e>\u001b[0m in \u001b[0;36m<module>\u001b[0;34m\u001b[0m\n\u001b[0;32m----> 1\u001b[0;31m \u001b[0mds_builder\u001b[0m\u001b[0;34m.\u001b[0m\u001b[0mget_entity_properties_strings\u001b[0m\u001b[0;34m(\u001b[0m\u001b[0;34m'Q5284'\u001b[0m\u001b[0;34m)\u001b[0m\u001b[0;34m\u001b[0m\u001b[0;34m\u001b[0m\u001b[0m\n\u001b[0m",
      "\u001b[0;32m<ipython-input-2-d31f7fb6f265>\u001b[0m in \u001b[0;36mget_entity_properties_strings\u001b[0;34m(self, entity_id)\u001b[0m\n\u001b[1;32m     80\u001b[0m         \u001b[0mentity_properties_dict\u001b[0m \u001b[0;34m=\u001b[0m \u001b[0;34m{\u001b[0m\u001b[0;34m}\u001b[0m\u001b[0;34m\u001b[0m\u001b[0;34m\u001b[0m\u001b[0m\n\u001b[1;32m     81\u001b[0m         \u001b[0;32mfor\u001b[0m \u001b[0mentity_property\u001b[0m \u001b[0;32min\u001b[0m \u001b[0mself\u001b[0m\u001b[0;34m.\u001b[0m\u001b[0mdb\u001b[0m\u001b[0;34m.\u001b[0m\u001b[0mget_entity_properties\u001b[0m\u001b[0;34m(\u001b[0m\u001b[0mentity_id\u001b[0m\u001b[0;34m)\u001b[0m\u001b[0;34m:\u001b[0m\u001b[0;34m\u001b[0m\u001b[0;34m\u001b[0m\u001b[0m\n\u001b[0;32m---> 82\u001b[0;31m             \u001b[0mproperty_name\u001b[0m\u001b[0;34m,\u001b[0m \u001b[0mrelated_entity_label\u001b[0m \u001b[0;34m=\u001b[0m \u001b[0mself\u001b[0m\u001b[0;34m.\u001b[0m\u001b[0mdb\u001b[0m\u001b[0;34m.\u001b[0m\u001b[0mget_property_string\u001b[0m\u001b[0;34m(\u001b[0m\u001b[0mentity_property\u001b[0m\u001b[0;34m[\u001b[0m\u001b[0;36m0\u001b[0m\u001b[0;34m]\u001b[0m\u001b[0;34m,\u001b[0m \u001b[0mentity_property\u001b[0m\u001b[0;34m[\u001b[0m\u001b[0;36m1\u001b[0m\u001b[0;34m]\u001b[0m\u001b[0;34m)\u001b[0m\u001b[0;34m\u001b[0m\u001b[0;34m\u001b[0m\u001b[0m\n\u001b[0m\u001b[1;32m     83\u001b[0m             \u001b[0mentity_properties_dict\u001b[0m\u001b[0;34m[\u001b[0m\u001b[0mproperty_name\u001b[0m\u001b[0;34m]\u001b[0m \u001b[0;34m=\u001b[0m \u001b[0mrelated_entity_label\u001b[0m\u001b[0;34m\u001b[0m\u001b[0;34m\u001b[0m\u001b[0m\n\u001b[1;32m     84\u001b[0m         \u001b[0;32mreturn\u001b[0m \u001b[0mentity_properties_dict\u001b[0m\u001b[0;34m\u001b[0m\u001b[0;34m\u001b[0m\u001b[0m\n",
      "\u001b[0;31mTypeError\u001b[0m: cannot unpack non-iterable NoneType object"
     ]
    }
   ],
   "source": [
    "ds_builder.get_entity_properties_strings('Q5284')"
   ]
  },
  {
   "cell_type": "code",
   "execution_count": null,
   "metadata": {},
   "outputs": [],
   "source": []
  }
 ],
 "metadata": {
  "kernelspec": {
   "display_name": "Python 3",
   "language": "python",
   "name": "python3"
  },
  "language_info": {
   "codemirror_mode": {
    "name": "ipython",
    "version": 3
   },
   "file_extension": ".py",
   "mimetype": "text/x-python",
   "name": "python",
   "nbconvert_exporter": "python",
   "pygments_lexer": "ipython3",
   "version": "3.8.5"
  }
 },
 "nbformat": 4,
 "nbformat_minor": 4
}
