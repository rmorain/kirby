{
 "cells": [
  {
   "cell_type": "code",
   "execution_count": null,
   "metadata": {},
   "outputs": [],
   "source": [
    "# default_exp dataset_builder"
   ]
  },
  {
   "cell_type": "markdown",
   "metadata": {},
   "source": [
    "# Dataset Builder\n",
    "> Builds an optimal dataset with knowledge base relations, from a vanilla dataset."
   ]
  },
  {
   "cell_type": "code",
   "execution_count": null,
   "metadata": {},
   "outputs": [],
   "source": [
    "#export \n",
    "from rake_nltk import Rake\n",
    "from kirby.knowledge_base_accessor import KnowledgeBaseAccessor\n",
    "import json"
   ]
  },
  {
   "cell_type": "code",
   "execution_count": null,
   "metadata": {},
   "outputs": [
    {
     "ename": "SyntaxError",
     "evalue": "unexpected EOF while parsing (<ipython-input-8-0a8252ac7c6a>, line 28)",
     "output_type": "error",
     "traceback": [
      "\u001b[0;36m  File \u001b[0;32m\"<ipython-input-8-0a8252ac7c6a>\"\u001b[0;36m, line \u001b[0;32m28\u001b[0m\n\u001b[0;31m    \u001b[0m\n\u001b[0m    ^\u001b[0m\n\u001b[0;31mSyntaxError\u001b[0m\u001b[0;31m:\u001b[0m unexpected EOF while parsing\n"
     ]
    }
   ],
   "source": [
    "#export\n",
    "class DatasetBuilder():\n",
    "    def __init__(self):\n",
    "        self.rake = Rake()\n",
    "        self.kba = KnowledgeBaseAccessor()\n",
    "        self.database = \n",
    "        pass\n",
    "    \n",
    "    def build(self, ds):\n",
    "        \"Build a database based a given dataset\"\n",
    "        ds.map(self.write_json, batched=False)\n",
    "        pass\n",
    "    \n",
    "    def write_json(self, x):\n",
    "        # Identify keyword\n",
    "        ranked_phrases = self.get_ranked_phrases()\n",
    "        # Get entity from keyword\n",
    "        e = self.entity(ranked_phrases)\n",
    "        for relation in e['relations']:\n",
    "            \n",
    "        pass\n",
    "    \n",
    "    def get_ranked_phrases(self, x):\n",
    "        self.rake.extract_keywords_from_text(x)\n",
    "        return self.rake.get_ranked_phrases()\n",
    "    \n",
    "    def entity(self, ranked_phrases):\n",
    "        \"Queries the knowledge base to find the entity and it's relations\"\n",
    "        for phrase in ranked_phrases:\n",
    "            entity = self.kba.get_entity(phrase)\n",
    "            if entity is not None:\n",
    "                return entity\n",
    "        return entity    \n",
    "        \n",
    "            \n",
    "            "
   ]
  },
  {
   "cell_type": "markdown",
   "metadata": {},
   "source": [
    "# Testing"
   ]
  },
  {
   "cell_type": "code",
   "execution_count": null,
   "metadata": {},
   "outputs": [],
   "source": [
    "# creation\n",
    "ds_builder = DatasetBuilder()\n",
    "assert isinstance(ds_builder, DatasetBuilder)"
   ]
  },
  {
   "cell_type": "code",
   "execution_count": null,
   "metadata": {},
   "outputs": [
    {
     "data": {
      "text/plain": [
       "['favorite basketball player', 'stephen curry']"
      ]
     },
     "execution_count": null,
     "metadata": {},
     "output_type": "execute_result"
    }
   ],
   "source": [
    "x = \"Stephen Curry is my favorite basketball player.\"\n",
    "ds_builder.rake.extract_keywords_from_text(x)\n",
    "ranked_phrases = ds_builder.rake.get_ranked_phrases()\n",
    "ranked_phrases"
   ]
  },
  {
   "cell_type": "code",
   "execution_count": null,
   "metadata": {},
   "outputs": [],
   "source": []
  }
 ],
 "metadata": {
  "kernelspec": {
   "display_name": "Python 3",
   "language": "python",
   "name": "python3"
  }
 },
 "nbformat": 4,
 "nbformat_minor": 4
}
