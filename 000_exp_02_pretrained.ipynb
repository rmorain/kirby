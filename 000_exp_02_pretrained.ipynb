{
 "cells": [
  {
   "cell_type": "code",
   "execution_count": null,
   "id": "a53c587f-8699-47cf-bbbd-7620cc832f93",
   "metadata": {},
   "outputs": [],
   "source": [
    "# default_exp exp_01\n",
    "%load_ext autoreload\n",
    "%autoreload 2"
   ]
  },
  {
   "cell_type": "markdown",
   "id": "23096d6e-73f2-4140-a969-f05fbfb2d8f9",
   "metadata": {},
   "source": [
    "# Wikitext Baseline\n",
    "\n",
    "Train GPT2 on wikitext without any augmentation. Done with a pretrained GPT2\n",
    "\n",
    "[issue](https://github.com/rmorain/kirby/issues/45)"
   ]
  },
  {
   "cell_type": "code",
   "execution_count": null,
   "id": "2f708e7b-c6eb-4cfb-a599-91d70d58a0f0",
   "metadata": {},
   "outputs": [],
   "source": [
    "#export\n",
    "from kirby.experiment import Experiment\n",
    "from kirby.run_params import RunParams\n",
    "import wandb\n",
    "\n",
    "wandb.login()\n",
    "\n",
    "run_params = RunParams(run_name='no_augmentation_pretrained', debug=True, pretrained=True)\n",
    "experiment = Experiment(run_params)\n",
    "experiment.run()"
   ]
  }
 ],
 "metadata": {
  "kernelspec": {
   "display_name": "Python 3",
   "language": "python",
   "name": "python3"
  }
 },
 "nbformat": 4,
 "nbformat_minor": 5
}
