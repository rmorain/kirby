{
 "cells": [
  {
   "cell_type": "code",
   "execution_count": null,
   "metadata": {},
   "outputs": [],
   "source": [
    "# default_exp basic_model\n",
    "%load_ext autoreload\n",
    "%autoreload 2"
   ]
  },
  {
   "cell_type": "code",
   "execution_count": null,
   "metadata": {},
   "outputs": [],
   "source": [
    "#export\n",
    "import torch\n",
    "import pytorch_lightning as pl\n",
    "from pytorch_lightning.loggers import TensorBoardLogger\n",
    "from transformers import GPT2Config, GPT2LMHeadModel\n",
    "from kirby.run_params import RunParams\n",
    "from kirby.data_manager import DataManager"
   ]
  },
  {
   "cell_type": "markdown",
   "metadata": {},
   "source": [
    "# Basic Model\n",
    "\n",
    "> A basic Pytorch lighting module"
   ]
  },
  {
   "cell_type": "code",
   "execution_count": null,
   "metadata": {},
   "outputs": [],
   "source": [
    "#export\n",
    "class BasicModel(pl.LightningModule):\n",
    "    def __init__(self, run_params):\n",
    "        super().__init__()\n",
    "        self.run_params = run_params\n",
    "        config = GPT2Config()\n",
    "        self.model = GPT2LMHeadModel(config)\n",
    "        self.loss = torch.nn.CrossEntropyLoss(reduction='none')\n",
    "        pass\n",
    "\n",
    "    def prepare_data(self):\n",
    "        data_manager = DataManager(self.run_params)\n",
    "        self.train_ds, self.val_ds = data_manager.prepare_data()\n",
    "\n",
    "\n",
    "    def forward(self, x):\n",
    "        loss = self.model(x['input_ids'], attention_mask=x['attention_mask'], labels=x['labels'])[0]\n",
    "        return loss\n",
    "\n",
    "    def training_step(self, batch, batch_idx):\n",
    "        loss = self.forward(batch)\n",
    "        self.log('train_loss', loss)\n",
    "        return loss\n",
    "\n",
    "    def validation_step(self, batch, batch_idx):\n",
    "        loss = self.forward(batch)\n",
    "        self.log('val_loss', loss)\n",
    "        return loss\n",
    "\n",
    "    def validation_epoch_end(self, losses):\n",
    "        loss = torch.cat([loss.unsqueeze(0) for loss in losses], 0).mean()\n",
    "        self.log('val_loss', loss)\n",
    "\n",
    "    def train_dataloader(self):\n",
    "        return torch.utils.data.DataLoader(\n",
    "                self.train_ds,\n",
    "                batch_size=self.run_params.batch_size,\n",
    "                drop_last=True,\n",
    "                shuffle=True,\n",
    "                num_workers=self.run_params.num_workers,\n",
    "                pin_memory=True\n",
    "                ) \n",
    "\n",
    "    def val_dataloader(self):\n",
    "        return torch.utils.data.DataLoader(\n",
    "                self.val_ds,\n",
    "                batch_size=self.run_params.batch_size,\n",
    "                drop_last=True,\n",
    "                shuffle=False,\n",
    "                num_workers=self.run_params.num_workers,\n",
    "                pin_memory=True\n",
    "                )\n",
    "\n",
    "    def configure_optimizers(self):\n",
    "        return torch.optim.SGD(\n",
    "            self.parameters(),\n",
    "            lr=self.run_params.lr,\n",
    "            momentum=self.run_params.momentum,\n",
    "        ) "
   ]
  },
  {
   "cell_type": "markdown",
   "metadata": {},
   "source": [
    "# Testing"
   ]
  },
  {
   "cell_type": "code",
   "execution_count": null,
   "metadata": {},
   "outputs": [],
   "source": [
    "# Creation\n",
    "basic_model = BasicModel(RunParams())\n",
    "assert isinstance(basic_model, BasicModel)"
   ]
  },
  {
   "cell_type": "code",
   "execution_count": null,
   "metadata": {},
   "outputs": [],
   "source": [
    "run_params = RunParams(debug=True)\n",
    "basic_model = BasicModel(run_params)\n",
    "trainer = pl.Trainer(\n",
    "    default_root_dir='logs',\n",
    "    gpus=(1 if torch.cuda.is_available() else 0),\n",
    "    max_epochs=run_params.max_epochs,\n",
    "    fast_dev_run=run_params.debug,\n",
    "    logger=TensorBoardLogger(save_dir='logs/', name=run_params.run_name),\n",
    ")\n",
    "\n",
    "trainer.fit(basic_model)"
   ]
  },
  {
   "cell_type": "code",
   "execution_count": null,
   "metadata": {},
   "outputs": [],
   "source": [
    "basic_model.train_ds"
   ]
  },
  {
   "cell_type": "code",
   "execution_count": null,
   "metadata": {},
   "outputs": [],
   "source": []
  }
 ],
 "metadata": {
  "kernelspec": {
   "display_name": "kirby",
   "language": "python",
   "name": "kirby"
  }
 },
 "nbformat": 4,
 "nbformat_minor": 4
}
